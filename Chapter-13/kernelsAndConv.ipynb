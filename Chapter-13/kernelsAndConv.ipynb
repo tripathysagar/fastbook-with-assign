{
 "cells": [
  {
   "cell_type": "markdown",
   "id": "6ad895e6-4331-44f8-aa19-ead9d7e32eec",
   "metadata": {},
   "source": [
    "## What features other than edge detectors have been used in computer vision (especially before deep learning became popular)?"
   ]
  },
  {
   "cell_type": "code",
   "execution_count": null,
   "id": "d9dee051-9c6a-41c8-9d4d-4c80bf0e7485",
   "metadata": {},
   "outputs": [],
   "source": [
    "from fastai.vision.all import *"
   ]
  },
  {
   "cell_type": "code",
   "execution_count": null,
   "id": "9d960e8f-71dd-42bd-a2d8-4699f517dd0f",
   "metadata": {},
   "outputs": [
    {
     "data": {
      "text/plain": [
       "((#3) [Path('/root/.fastai/data/mnist_sample/valid'),Path('/root/.fastai/data/mnist_sample/train'),Path('/root/.fastai/data/mnist_sample/labels.csv')],\n",
       " (#2) [Path('/root/.fastai/data/mnist_sample/train/7'),Path('/root/.fastai/data/mnist_sample/train/3')])"
      ]
     },
     "execution_count": null,
     "metadata": {},
     "output_type": "execute_result"
    }
   ],
   "source": [
    "path = untar_data(URLs.MNIST_SAMPLE)\n",
    "path.ls(), (path/'train').ls()"
   ]
  },
  {
   "cell_type": "code",
   "execution_count": null,
   "id": "958ebf0c-af64-460c-9bf1-b7c50e3bc714",
   "metadata": {},
   "outputs": [
    {
     "data": {
      "text/plain": [
       "<Axes: >"
      ]
     },
     "execution_count": null,
     "metadata": {},
     "output_type": "execute_result"
    },
    {
     "data": {
      "image/png": "[encoded data removed]",
      "text/plain": [
       "<Figure size 100x100 with 1 Axes>"
      ]
     },
     "metadata": {},
     "output_type": "display_data"
    }
   ],
   "source": [
    "im3 = Image.open(path/'train'/'3'/'12.png')\n",
    "show_image(im3,cmap='gray')"
   ]
  },
  {
   "cell_type": "code",
   "execution_count": null,
   "id": "a337642d-92e4-4b48-a18f-abf5118fd9e3",
   "metadata": {},
   "outputs": [],
   "source": [
    "im3_t = tensor(im3)"
   ]
  },
  {
   "cell_type": "code",
   "execution_count": null,
   "id": "627b383f-aca8-4d30-9820-b87fec60d454",
   "metadata": {},
   "outputs": [],
   "source": [
    "def apply_kernel(row, col, kernel):\n",
    "    return (im3_t[row-1:row+2, col-1:col+2]*kernel).sum().int()"
   ]
  },
  {
   "cell_type": "code",
   "execution_count": null,
   "id": "37ab6468-6ffa-46c2-9d98-36349ccdf551",
   "metadata": {},
   "outputs": [],
   "source": [
    "rng = range(1, 27)\n",
    "def traverse(kernel):\n",
    "    return [[apply_kernel(i, j, kernel) for j in rng] for i in rng]"
   ]
  },
  {
   "cell_type": "markdown",
   "id": "af525f4a-af54-42be-ae79-5aa411f04737",
   "metadata": {},
   "source": [
    "**top edge**"
   ]
  },
  {
   "cell_type": "code",
   "execution_count": null,
   "id": "15eb0383-16eb-4ce1-9678-29954246132d",
   "metadata": {},
   "outputs": [
    {
     "data": {
      "text/plain": [
       "<Axes: >"
      ]
     },
     "execution_count": null,
     "metadata": {},
     "output_type": "execute_result"
    },
    {
     "data": {
      "image/png": "[encoded data removed]",
      "text/plain": [
       "<Figure size 100x100 with 1 Axes>"
      ]
     },
     "metadata": {},
     "output_type": "display_data"
    }
   ],
   "source": [
    "k = tensor([[-1, -1, -1],\n",
    "            [0, 0, 0],\n",
    "            [1, 1, 1]])\n",
    "show_image(traverse(k), cmap='gray')"
   ]
  },
  {
   "cell_type": "markdown",
   "id": "83b4b8dc-5695-4a24-8123-015a311002c2",
   "metadata": {},
   "source": [
    "**buttom edge**"
   ]
  },
  {
   "cell_type": "code",
   "execution_count": null,
   "id": "bdbf6317-0248-4a98-9538-8dd59b03d315",
   "metadata": {},
   "outputs": [
    {
     "data": {
      "text/plain": [
       "<Axes: >"
      ]
     },
     "execution_count": null,
     "metadata": {},
     "output_type": "execute_result"
    },
    {
     "data": {
      "image/png": "[encoded data removed]",
      "text/plain": [
       "<Figure size 100x100 with 1 Axes>"
      ]
     },
     "metadata": {},
     "output_type": "display_data"
    }
   ],
   "source": [
    "k = tensor([[1, 1, 1],\n",
    "            [0, 0, 0],\n",
    "            [-1, -1, -1]])\n",
    "show_image(traverse(k), cmap='gray')"
   ]
  },
  {
   "cell_type": "markdown",
   "id": "8b26973f-da9e-4e60-b2c2-7034971f92a9",
   "metadata": {},
   "source": [
    "**left edge**"
   ]
  },
  {
   "cell_type": "code",
   "execution_count": null,
   "id": "7a37fd35-3f3e-4919-9401-90b612c5d5e7",
   "metadata": {},
   "outputs": [
    {
     "data": {
      "text/plain": [
       "<Axes: >"
      ]
     },
     "execution_count": null,
     "metadata": {},
     "output_type": "execute_result"
    },
    {
     "data": {
      "image/png": "[encoded data removed]",
      "text/plain": [
       "<Figure size 100x100 with 1 Axes>"
      ]
     },
     "metadata": {},
     "output_type": "display_data"
    }
   ],
   "source": [
    "k = tensor([[1, 0, -1],\n",
    "            [1, 0, -1],\n",
    "            [1, 0, -1]])\n",
    "show_image(traverse(k), cmap='gray')"
   ]
  },
  {
   "cell_type": "markdown",
   "id": "e53b0b5a-9313-44a0-9269-84bb1f8cfa6e",
   "metadata": {},
   "source": [
    "**right edge**"
   ]
  },
  {
   "cell_type": "code",
   "execution_count": null,
   "id": "aa77770f-0875-4a0c-9c2a-3ade40fd320d",
   "metadata": {},
   "outputs": [],
   "source": [
    "k = tensor([[-1, 0, 1],\n",
    "            [-1, 0, 1],\n",
    "            [-1, 0, 1]])\n",
    "show_image(traverse(k), cmap='gray')"
   ]
  },
  {
   "cell_type": "markdown",
   "id": "bdbd2387-f128-4fcf-a1ad-7a9558733af1",
   "metadata": {},
   "source": [
    "**identity kernel**"
   ]
  },
  {
   "cell_type": "code",
   "execution_count": null,
   "id": "41c99627-87fe-47e2-81be-3e6218cc3569",
   "metadata": {},
   "outputs": [
    {
     "data": {
      "text/plain": [
       "<Axes: >"
      ]
     },
     "execution_count": null,
     "metadata": {},
     "output_type": "execute_result"
    },
    {
     "data": {
      "image/png": "[encoded data removed]",
      "text/plain": [
       "<Figure size 100x100 with 1 Axes>"
      ]
     },
     "metadata": {},
     "output_type": "display_data"
    }
   ],
   "source": [
    "k = tensor([[0, 0, 0],\n",
    "            [0, 1, 0],\n",
    "            [0, 0, 0]])\n",
    "show_image(traverse(k), cmap='gray')"
   ]
  },
  {
   "cell_type": "markdown",
   "id": "5f9c1213-bd02-4457-bc27-7d00c9a9d958",
   "metadata": {},
   "source": [
    "**blurr kernel**"
   ]
  },
  {
   "cell_type": "code",
   "execution_count": null,
   "id": "eebcea4e-e7ff-48e6-ba7d-51f3b1592830",
   "metadata": {},
   "outputs": [
    {
     "data": {
      "text/plain": [
       "<Axes: >"
      ]
     },
     "execution_count": null,
     "metadata": {},
     "output_type": "execute_result"
    },
    {
     "data": {
      "image/png": "[encoded data removed]",
      "text/plain": [
       "<Figure size 100x100 with 1 Axes>"
      ]
     },
     "metadata": {},
     "output_type": "display_data"
    }
   ],
   "source": [
    "k = tensor([[1/9, 1/9, 1/9],\n",
    "            [1/9, 1/9, 1/9],\n",
    "            [1/9, 1/9, 1/9]])\n",
    "show_image(traverse(k), cmap='gray')"
   ]
  },
  {
   "cell_type": "markdown",
   "id": "0c75e18b-ffcf-43c3-a1ad-340ea475353c",
   "metadata": {},
   "source": [
    "**gaussian blur kernel**"
   ]
  },
  {
   "cell_type": "code",
   "execution_count": null,
   "id": "3e315c62-d605-4442-9f7a-186a7e5bbf30",
   "metadata": {},
   "outputs": [
    {
     "data": {
      "text/plain": [
       "<Axes: >"
      ]
     },
     "execution_count": null,
     "metadata": {},
     "output_type": "execute_result"
    },
    {
     "data": {
      "image/png": "[encoded data removed]",
      "text/plain": [
       "<Figure size 100x100 with 1 Axes>"
      ]
     },
     "metadata": {},
     "output_type": "display_data"
    }
   ],
   "source": [
    "k = tensor([[1, 2, 1],\n",
    "            [2, 4, 2],\n",
    "            [1, 2, 1]]\n",
    "            )\n",
    "show_image(traverse(k), cmap='gray')"
   ]
  },
  {
   "cell_type": "markdown",
   "id": "937b5a6f-ad6f-402c-9494-6a1862c8eae9",
   "metadata": {},
   "source": [
    "**Sobel Kernel (Horizontal Edge Detection)**"
   ]
  },
  {
   "cell_type": "code",
   "execution_count": null,
   "id": "f34e7255-c24a-4031-b890-f57698ca35cc",
   "metadata": {},
   "outputs": [
    {
     "data": {
      "text/plain": [
       "<Axes: >"
      ]
     },
     "execution_count": null,
     "metadata": {},
     "output_type": "execute_result"
    },
    {
     "data": {
      "image/png": "[encoded data removed]",
      "text/plain": [
       "<Figure size 100x100 with 1 Axes>"
      ]
     },
     "metadata": {},
     "output_type": "display_data"
    }
   ],
   "source": [
    "k = tensor([[-1, 0, 1],\n",
    "            [-2, 0, 2],\n",
    "            [-1, 0, 1]]\n",
    "            )\n",
    "show_image(traverse(k), cmap='gray')"
   ]
  },
  {
   "cell_type": "markdown",
   "id": "4d138c96-f8f3-4c55-b6d0-af04060390d5",
   "metadata": {},
   "source": [
    "**Sobel Kernel**"
   ]
  },
  {
   "cell_type": "code",
   "execution_count": null,
   "id": "8630b1bb-1bbf-48cf-9972-f92a148d142f",
   "metadata": {},
   "outputs": [
    {
     "data": {
      "text/plain": [
       "<Axes: >"
      ]
     },
     "execution_count": null,
     "metadata": {},
     "output_type": "execute_result"
    },
    {
     "data": {
      "image/png": "[encoded data removed]",
      "text/plain": [
       "<Figure size 100x100 with 1 Axes>"
      ]
     },
     "metadata": {},
     "output_type": "display_data"
    }
   ],
   "source": [
    "k = tensor([[-1, -2, -1],\n",
    "            [ 0,  0,  0],\n",
    "            [ 1,  2,  1]])\n",
    "show_image(traverse(k), cmap='gray')"
   ]
  }
 ],
 "metadata": {
  "kernelspec": {
   "display_name": "python3",
   "language": "python",
   "name": "python3"
  }
 },
 "nbformat": 4,
 "nbformat_minor": 5
}
