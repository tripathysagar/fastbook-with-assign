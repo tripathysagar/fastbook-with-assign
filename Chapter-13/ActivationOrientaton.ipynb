{
 "cells": [
  {
   "cell_type": "markdown",
   "id": "43578c05-57b4-4f92-8c53-bee0adfd055a",
   "metadata": {},
   "source": [
    "## Try moving the activation function after the batch normalization layer in conv. Does it make a difference? See what you can find out about what order is recommended, and why."
   ]
  },
  {
   "cell_type": "code",
   "execution_count": null,
   "id": "0c659c78-c2a7-4608-a928-1d8077d57192",
   "metadata": {},
   "outputs": [
    {
     "data": {
      "text/plain": [
       "(#2) [Path('/root/.fastai/data/mnist_png/testing'),Path('/root/.fastai/data/mnist_png/training')]"
      ]
     },
     "execution_count": null,
     "metadata": {},
     "output_type": "execute_result"
    }
   ],
   "source": [
    "from fastai.vision.all import *\n",
    "path = untar_data(URLs.MNIST)\n",
    "path.ls()"
   ]
  },
  {
   "cell_type": "code",
   "execution_count": null,
   "id": "525b8e5f-7fea-47c8-a875-3d4ca1b3d9f6",
   "metadata": {},
   "outputs": [],
   "source": [
    "def get_dls(bs=64):\n",
    "    return DataBlock(\n",
    "        blocks = (ImageBlock(cls = PILImageBW), CategoryBlock),\n",
    "        get_items=get_image_files,\n",
    "        splitter=GrandparentSplitter('training', 'testing'),\n",
    "        get_y=parent_label,\n",
    "        batch_tfms=Normalize()\n",
    "    ).dataloaders(path, bs=bs)\n",
    "\n",
    "dls = get_dls()"
   ]
  },
  {
   "cell_type": "code",
   "execution_count": null,
   "id": "cee1e6a1-ba9c-449b-93b5-8a89f6d18963",
   "metadata": {},
   "outputs": [
    {
     "data": {
      "image/png": "[encoded data removed]",
      "text/plain": [
       "<Figure size 400x400 with 9 Axes>"
      ]
     },
     "metadata": {},
     "output_type": "display_data"
    }
   ],
   "source": [
    "dls.show_batch(max_n=9, figsize=(4,4))"
   ]
  },
  {
   "cell_type": "code",
   "execution_count": null,
   "id": "f452a6df-9e4c-4ae9-80fb-e3e3d1cb668b",
   "metadata": {},
   "outputs": [],
   "source": [
    "def simple_cnn():\n",
    "    return sequential(\n",
    "        conv(1, 8, ks=5),\n",
    "        conv(8, 16),\n",
    "        conv(16, 32),\n",
    "        conv(32, 64),\n",
    "        conv(64, 10, act=False),\n",
    "        Flatten()\n",
    "    )"
   ]
  },
  {
   "cell_type": "code",
   "execution_count": null,
   "id": "734af1bc-0106-4d5b-bbdb-31ac756dea14",
   "metadata": {},
   "outputs": [],
   "source": [
    "def fit(epochs = 1, lr=0.06):\n",
    "    learn = Learner(dls, simple_cnn(), loss_func=CrossEntropyLossFlat(),\n",
    "                    metrics=accuracy)\n",
    "    learn.fit_one_cycle(epochs, lr)\n",
    "    return learn"
   ]
  },
  {
   "cell_type": "markdown",
   "id": "97484e3b-2abd-4983-be16-ca5937a31d0a",
   "metadata": {},
   "source": [
    "First activation then the `BatchNorm2d`"
   ]
  },
  {
   "cell_type": "code",
   "execution_count": null,
   "id": "ff860501-e10b-48b6-85cf-011caea980ac",
   "metadata": {},
   "outputs": [
    {
     "data": {
      "text/html": [
       "\n",
       "<style>\n",
       "    /* Turns off some styling */\n",
       "    progress {\n",
       "        /* gets rid of default border in Firefox and Opera. */\n",
       "        border: none;\n",
       "        /* Needs to be in here for Safari polyfill so background images work as expected. */\n",
       "        background-size: auto;\n",
       "    }\n",
       "    progress:not([value]), progress:not([value])::-webkit-progress-bar {\n",
       "        background: repeating-linear-gradient(45deg, #7e7e7e, #7e7e7e 10px, #5c5c5c 10px, #5c5c5c 20px);\n",
       "    }\n",
       "    .progress-bar-interrupted, .progress-bar-interrupted::-webkit-progress-bar {\n",
       "        background: #F44336;\n",
       "    }\n",
       "</style>\n"
      ],
      "text/plain": [
       "<IPython.core.display.HTML object>"
      ]
     },
     "metadata": {},
     "output_type": "display_data"
    },
    {
     "data": {
      "text/html": [
       "<table border=\"1\" class=\"dataframe\">\n",
       "  <thead>\n",
       "    <tr style=\"text-align: left;\">\n",
       "      <th>epoch</th>\n",
       "      <th>train_loss</th>\n",
       "      <th>valid_loss</th>\n",
       "      <th>accuracy</th>\n",
       "      <th>time</th>\n",
       "    </tr>\n",
       "  </thead>\n",
       "  <tbody>\n",
       "    <tr>\n",
       "      <td>0</td>\n",
       "      <td>0.109260</td>\n",
       "      <td>0.085607</td>\n",
       "      <td>0.973700</td>\n",
       "      <td>00:27</td>\n",
       "    </tr>\n",
       "    <tr>\n",
       "      <td>1</td>\n",
       "      <td>0.045833</td>\n",
       "      <td>0.034405</td>\n",
       "      <td>0.989700</td>\n",
       "      <td>00:28</td>\n",
       "    </tr>\n",
       "  </tbody>\n",
       "</table>"
      ],
      "text/plain": [
       "<IPython.core.display.HTML object>"
      ]
     },
     "metadata": {},
     "output_type": "display_data"
    }
   ],
   "source": [
    "def conv(ni, nf, ks=3, act=True):\n",
    "    layers = [nn.Conv2d(ni, nf, stride=2, kernel_size=ks, padding=ks//2)]\n",
    "    if act:\n",
    "        layers.append(nn.ReLU())\n",
    "    layers.append(nn.BatchNorm2d(nf))\n",
    "    return nn.Sequential(*layers)\n",
    "learn = fit(2)"
   ]
  },
  {
   "cell_type": "code",
   "execution_count": null,
   "id": "0643b0c7-ad02-43fe-8018-7768f3ef1007",
   "metadata": {},
   "outputs": [
    {
     "data": {
      "text/plain": [
       "Sequential(\n",
       "  (0): Conv2d(1, 8, kernel_size=(5, 5), stride=(2, 2), padding=(2, 2))\n",
       "  (1): ReLU()\n",
       "  (2): BatchNorm2d(8, eps=1e-05, momentum=0.1, affine=True, track_running_stats=True)\n",
       ")"
      ]
     },
     "execution_count": null,
     "metadata": {},
     "output_type": "execute_result"
    }
   ],
   "source": [
    "m1 = learn.model\n",
    "m1[0]"
   ]
  },
  {
   "cell_type": "markdown",
   "id": "ebfe4463-1640-4eb7-9f78-37e15573c06d",
   "metadata": {},
   "source": [
    "First `BatchNorm2d` then activation "
   ]
  },
  {
   "cell_type": "code",
   "execution_count": null,
   "id": "4a2b1252-ec66-4eb6-9658-978d81bf4bc2",
   "metadata": {},
   "outputs": [
    {
     "data": {
      "text/html": [
       "\n",
       "<style>\n",
       "    /* Turns off some styling */\n",
       "    progress {\n",
       "        /* gets rid of default border in Firefox and Opera. */\n",
       "        border: none;\n",
       "        /* Needs to be in here for Safari polyfill so background images work as expected. */\n",
       "        background-size: auto;\n",
       "    }\n",
       "    progress:not([value]), progress:not([value])::-webkit-progress-bar {\n",
       "        background: repeating-linear-gradient(45deg, #7e7e7e, #7e7e7e 10px, #5c5c5c 10px, #5c5c5c 20px);\n",
       "    }\n",
       "    .progress-bar-interrupted, .progress-bar-interrupted::-webkit-progress-bar {\n",
       "        background: #F44336;\n",
       "    }\n",
       "</style>\n"
      ],
      "text/plain": [
       "<IPython.core.display.HTML object>"
      ]
     },
     "metadata": {},
     "output_type": "display_data"
    },
    {
     "data": {
      "text/html": [
       "<table border=\"1\" class=\"dataframe\">\n",
       "  <thead>\n",
       "    <tr style=\"text-align: left;\">\n",
       "      <th>epoch</th>\n",
       "      <th>train_loss</th>\n",
       "      <th>valid_loss</th>\n",
       "      <th>accuracy</th>\n",
       "      <th>time</th>\n",
       "    </tr>\n",
       "  </thead>\n",
       "  <tbody>\n",
       "    <tr>\n",
       "      <td>0</td>\n",
       "      <td>0.106057</td>\n",
       "      <td>0.069768</td>\n",
       "      <td>0.978600</td>\n",
       "      <td>00:27</td>\n",
       "    </tr>\n",
       "    <tr>\n",
       "      <td>1</td>\n",
       "      <td>0.037472</td>\n",
       "      <td>0.031781</td>\n",
       "      <td>0.990400</td>\n",
       "      <td>00:31</td>\n",
       "    </tr>\n",
       "  </tbody>\n",
       "</table>"
      ],
      "text/plain": [
       "<IPython.core.display.HTML object>"
      ]
     },
     "metadata": {},
     "output_type": "display_data"
    }
   ],
   "source": [
    "def conv(ni, nf, ks=3, act=True):\n",
    "    layers = [nn.Conv2d(ni, nf, stride=2, kernel_size=ks, padding=ks//2)]\n",
    "    \n",
    "    layers.append(nn.BatchNorm2d(nf))\n",
    "    if act:\n",
    "        layers.append(nn.ReLU())\n",
    "    return nn.Sequential(*layers)\n",
    "learn = fit(2)"
   ]
  },
  {
   "cell_type": "markdown",
   "id": "5d1d5651-9b1d-4c2c-a657-5238131e7ee9",
   "metadata": {},
   "source": [
    "**Conclusion :**<br>\n",
    "\n",
    "`Accuracy`, `train_loss` and `valid_loss` is worse when the activation comes before batchnorm. Inutation some output of the activation might be cut-off by activation (i.e. nagative ones). So that they will have no effect(converted to `0`) in the batch norm layer. So the normalization will only act positve part of the network rather than complete set."
   ]
  },
  {
   "cell_type": "code",
   "execution_count": null,
   "id": "00169ebb-cb01-4e55-9ec5-3c0a372f269d",
   "metadata": {},
   "outputs": [
    {
     "data": {
      "text/plain": [
       "tensor([[-0.2837, -0.9316, -0.7214,  1.2527,  0.9261],\n",
       "        [ 0.3938,  1.4345, -1.3526, -0.0744, -1.9580],\n",
       "        [ 0.0965,  0.3851, -0.7389,  1.8008, -0.2670]])"
      ]
     },
     "execution_count": null,
     "metadata": {},
     "output_type": "execute_result"
    }
   ],
   "source": [
    "t = torch.randn((3,5))\n",
    "t"
   ]
  },
  {
   "cell_type": "code",
   "execution_count": null,
   "id": "22877c8f-73fe-44f6-9d09-ad4555dc8f23",
   "metadata": {},
   "outputs": [
    {
     "data": {
      "text/plain": [
       "tensor([[0.0000, 0.0000, 0.0000, 1.2527, 0.9261],\n",
       "        [0.3938, 1.4345, 0.0000, 0.0000, 0.0000],\n",
       "        [0.0965, 0.3851, 0.0000, 1.8008, 0.0000]])"
      ]
     },
     "execution_count": null,
     "metadata": {},
     "output_type": "execute_result"
    }
   ],
   "source": [
    "t_relu = F.relu(t)\n",
    "t_relu"
   ]
  },
  {
   "cell_type": "code",
   "execution_count": null,
   "id": "7e48bc12-4779-49a4-bc03-0c68c3c033d5",
   "metadata": {},
   "outputs": [
    {
     "data": {
      "text/plain": [
       "(tensor([[0.4357],\n",
       "         [0.3657],\n",
       "         [0.4565]]),\n",
       " tensor([[0.3694],\n",
       "         [0.3861],\n",
       "         [0.5897]]))"
      ]
     },
     "execution_count": null,
     "metadata": {},
     "output_type": "execute_result"
    }
   ],
   "source": [
    "mean = torch.mean(t_relu, dim=1, keepdim=True)\n",
    "var = torch.var(t_relu, dim=1,  keepdim=True)\n",
    "mean, var"
   ]
  },
  {
   "cell_type": "code",
   "execution_count": null,
   "id": "11f4fa68-d75d-4683-b9b4-ba1fa5f920c3",
   "metadata": {},
   "outputs": [
    {
     "data": {
      "text/plain": [
       "tensor([[-0.1609, -0.1609, -0.1609,  0.3017,  0.1811],\n",
       "        [ 0.0109,  0.4127, -0.1412, -0.1412, -0.1412],\n",
       "        [-0.2123, -0.0421, -0.2692,  0.7927, -0.2692]])"
      ]
     },
     "execution_count": null,
     "metadata": {},
     "output_type": "execute_result"
    }
   ],
   "source": [
    "(t_relu - mean) * var"
   ]
  },
  {
   "cell_type": "markdown",
   "id": "aaae32c6-7662-42df-858a-b05eaa899bfe",
   "metadata": {},
   "source": [
    "As the basic `normalization` is returing both positive and negative number. The positive number are way too big as it did not got clip."
   ]
  },
  {
   "cell_type": "code",
   "execution_count": null,
   "id": "339d6fd9-802d-4436-b590-f7f61ea3b37a",
   "metadata": {},
   "outputs": [
    {
     "data": {
      "text/plain": [
       "(tensor([[ 0.0484],\n",
       "         [-0.3113],\n",
       "         [ 0.2553]]),\n",
       " tensor([[0.9710],\n",
       "         [1.8492],\n",
       "         [0.9230]]))"
      ]
     },
     "execution_count": null,
     "metadata": {},
     "output_type": "execute_result"
    }
   ],
   "source": [
    "mean = torch.mean(t, dim=1, keepdim=True)\n",
    "var = torch.var(t, dim=1,  keepdim=True)\n",
    "mean, var"
   ]
  },
  {
   "cell_type": "code",
   "execution_count": null,
   "id": "0c4342cd-7af1-474b-8adf-ceb17b17ffce",
   "metadata": {},
   "outputs": [
    {
     "data": {
      "text/plain": [
       "tensor([[0.0000, 0.0000, 0.0000, 1.1694, 0.8522],\n",
       "        [1.3039, 3.2284, 0.5757, 0.5757, 0.5757],\n",
       "        [0.0000, 0.1198, 0.0000, 1.4265, 0.0000]])"
      ]
     },
     "execution_count": null,
     "metadata": {},
     "output_type": "execute_result"
    }
   ],
   "source": [
    "F.relu((t_relu - mean) * var)"
   ]
  },
  {
   "cell_type": "markdown",
   "id": "d1af9f9f-4d5e-4077-9325-8e2d6201667c",
   "metadata": {},
   "source": [
    "As the basic `normalization` is returing positive number. The positive number are cliped as it got normalized previously."
   ]
  },
  {
   "cell_type": "code",
   "execution_count": null,
   "id": "c122d8b9-7c55-4cee-a540-90ba3344cd58",
   "metadata": {},
   "outputs": [],
   "source": []
  }
 ],
 "metadata": {
  "kernelspec": {
   "display_name": "python3",
   "language": "python",
   "name": "python3"
  }
 },
 "nbformat": 4,
 "nbformat_minor": 5
}
