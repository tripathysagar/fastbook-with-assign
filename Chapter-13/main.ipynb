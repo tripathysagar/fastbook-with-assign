{
 "cells": [
  {
   "cell_type": "code",
   "execution_count": 1,
   "metadata": {},
   "outputs": [],
   "source": [
    "from fastai.vision.all import *"
   ]
  },
  {
   "cell_type": "code",
   "execution_count": 6,
   "metadata": {},
   "outputs": [
    {
     "data": {
      "text/plain": [
       "((#3) [Path('/root/.fastai/data/mnist_sample/valid'),Path('/root/.fastai/data/mnist_sample/train'),Path('/root/.fastai/data/mnist_sample/labels.csv')],\n",
       " (#2) [Path('/root/.fastai/data/mnist_sample/train/7'),Path('/root/.fastai/data/mnist_sample/train/3')])"
      ]
     },
     "execution_count": 6,
     "metadata": {},
     "output_type": "execute_result"
    }
   ],
   "source": [
    "path = untar_data(URLs.MNIST_SAMPLE)\n",
    "path.ls(), (path/'train').ls()"
   ]
  },
  {
   "cell_type": "code",
   "execution_count": 10,
   "metadata": {},
   "outputs": [],
   "source": [
    "top_edge = tensor([[-1, -1, -1],\n",
    "                   [0, 0, 0],\n",
    "                   [1, 1, 1]])"
   ]
  },
  {
   "cell_type": "code",
   "execution_count": 9,
   "metadata": {},
   "outputs": [
    {
     "data": {
      "text/plain": [
       "<Axes: >"
      ]
     },
     "execution_count": 9,
     "metadata": {},
     "output_type": "execute_result"
    },
    {
     "data": {
      "image/png": "[encoded data removed]",
      "text/plain": [
       "<Figure size 100x100 with 1 Axes>"
      ]
     },
     "metadata": {},
     "output_type": "display_data"
    }
   ],
   "source": [
    "im3 = Image.open(path/'train'/'3'/'12.png')\n",
    "show_image(im3)"
   ]
  },
  {
   "cell_type": "code",
   "execution_count": 11,
   "metadata": {},
   "outputs": [
    {
     "data": {
      "text/plain": [
       "tensor([[0, 0, 0],\n",
       "        [0, 0, 0],\n",
       "        [0, 0, 0]])"
      ]
     },
     "execution_count": 11,
     "metadata": {},
     "output_type": "execute_result"
    }
   ],
   "source": [
    "im3_t = tensor(im3)\n",
    "im3_t[0:3, 0:3] * top_edge"
   ]
  },
  {
   "cell_type": "code",
   "execution_count": 12,
   "metadata": {},
   "outputs": [
    {
     "data": {
      "text/plain": [
       "tensor(0)"
      ]
     },
     "execution_count": 12,
     "metadata": {},
     "output_type": "execute_result"
    }
   ],
   "source": [
    "(im3_t[0:3, 0:3] * top_edge).sum()"
   ]
  },
  {
   "cell_type": "code",
   "execution_count": 15,
   "metadata": {},
   "outputs": [
    {
     "data": {
      "text/html": [
       "<style type=\"text/css\">\n",
       "#T_e121c_row0_col0, #T_e121c_row0_col1, #T_e121c_row0_col2, #T_e121c_row0_col3, #T_e121c_row0_col4, #T_e121c_row0_col5, #T_e121c_row0_col6, #T_e121c_row0_col7, #T_e121c_row0_col8, #T_e121c_row0_col9, #T_e121c_row0_col10, #T_e121c_row0_col11, #T_e121c_row0_col12, #T_e121c_row0_col13, #T_e121c_row0_col14, #T_e121c_row0_col15, #T_e121c_row0_col16, #T_e121c_row0_col17, #T_e121c_row0_col18, #T_e121c_row0_col19, #T_e121c_row1_col0, #T_e121c_row1_col1, #T_e121c_row1_col2, #T_e121c_row1_col3, #T_e121c_row1_col4, #T_e121c_row1_col5, #T_e121c_row1_col6, #T_e121c_row1_col7, #T_e121c_row1_col8, #T_e121c_row1_col9, #T_e121c_row1_col10, #T_e121c_row1_col11, #T_e121c_row1_col12, #T_e121c_row1_col13, #T_e121c_row1_col14, #T_e121c_row1_col15, #T_e121c_row1_col16, #T_e121c_row1_col17, #T_e121c_row1_col18, #T_e121c_row1_col19, #T_e121c_row2_col0, #T_e121c_row2_col1, #T_e121c_row2_col2, #T_e121c_row2_col3, #T_e121c_row2_col4, #T_e121c_row2_col5, #T_e121c_row2_col6, #T_e121c_row2_col7, #T_e121c_row2_col8, #T_e121c_row2_col9, #T_e121c_row2_col10, #T_e121c_row2_col11, #T_e121c_row2_col12, #T_e121c_row2_col13, #T_e121c_row2_col14, #T_e121c_row2_col15, #T_e121c_row2_col16, #T_e121c_row2_col17, #T_e121c_row2_col18, #T_e121c_row2_col19, #T_e121c_row3_col0, #T_e121c_row3_col1, #T_e121c_row3_col2, #T_e121c_row3_col3, #T_e121c_row3_col4, #T_e121c_row3_col5, #T_e121c_row3_col6, #T_e121c_row3_col7, #T_e121c_row3_col8, #T_e121c_row3_col9, #T_e121c_row3_col10, #T_e121c_row3_col11, #T_e121c_row3_col12, #T_e121c_row3_col13, #T_e121c_row3_col14, #T_e121c_row3_col15, #T_e121c_row3_col16, #T_e121c_row3_col17, #T_e121c_row3_col18, #T_e121c_row3_col19, #T_e121c_row4_col0, #T_e121c_row4_col1, #T_e121c_row4_col2, #T_e121c_row4_col3, #T_e121c_row4_col4, #T_e121c_row4_col5, #T_e121c_row4_col6, #T_e121c_row4_col7, #T_e121c_row4_col8, #T_e121c_row4_col9, #T_e121c_row4_col10, #T_e121c_row4_col11, #T_e121c_row4_col12, #T_e121c_row4_col13, #T_e121c_row4_col14, #T_e121c_row4_col15, #T_e121c_row4_col16, #T_e121c_row4_col17, #T_e121c_row4_col18, #T_e121c_row4_col19, #T_e121c_row5_col0, #T_e121c_row5_col1, #T_e121c_row5_col2, #T_e121c_row5_col16, #T_e121c_row5_col17, #T_e121c_row5_col18, #T_e121c_row5_col19, #T_e121c_row6_col0, #T_e121c_row6_col1, #T_e121c_row6_col2, #T_e121c_row6_col19, #T_e121c_row7_col0, #T_e121c_row7_col1, #T_e121c_row7_col2, #T_e121c_row7_col19, #T_e121c_row8_col0, #T_e121c_row8_col1, #T_e121c_row8_col2, #T_e121c_row8_col8, #T_e121c_row8_col9, #T_e121c_row8_col10, #T_e121c_row8_col11, #T_e121c_row8_col12, #T_e121c_row8_col13, #T_e121c_row8_col19, #T_e121c_row9_col0, #T_e121c_row9_col1, #T_e121c_row9_col2, #T_e121c_row9_col3, #T_e121c_row9_col4, #T_e121c_row9_col5, #T_e121c_row9_col6, #T_e121c_row9_col7, #T_e121c_row9_col8, #T_e121c_row9_col9, #T_e121c_row9_col10, #T_e121c_row9_col11, #T_e121c_row9_col12, #T_e121c_row9_col13, #T_e121c_row9_col19 {\n",
       "  font-size: 6pt;\n",
       "  background-color: #ffffff;\n",
       "  color: #000000;\n",
       "}\n",
       "#T_e121c_row5_col3, #T_e121c_row8_col14 {\n",
       "  font-size: 6pt;\n",
       "  background-color: #f9f9f9;\n",
       "  color: #000000;\n",
       "}\n",
       "#T_e121c_row5_col4 {\n",
       "  font-size: 6pt;\n",
       "  background-color: #b9b9b9;\n",
       "  color: #000000;\n",
       "}\n",
       "#T_e121c_row5_col5 {\n",
       "  font-size: 6pt;\n",
       "  background-color: #c1c1c1;\n",
       "  color: #000000;\n",
       "}\n",
       "#T_e121c_row5_col6 {\n",
       "  font-size: 6pt;\n",
       "  background-color: #858585;\n",
       "  color: #f1f1f1;\n",
       "}\n",
       "#T_e121c_row5_col7, #T_e121c_row5_col10, #T_e121c_row5_col11, #T_e121c_row5_col12, #T_e121c_row5_col13 {\n",
       "  font-size: 6pt;\n",
       "  background-color: #777777;\n",
       "  color: #f1f1f1;\n",
       "}\n",
       "#T_e121c_row5_col8 {\n",
       "  font-size: 6pt;\n",
       "  background-color: #090909;\n",
       "  color: #f1f1f1;\n",
       "}\n",
       "#T_e121c_row5_col9 {\n",
       "  font-size: 6pt;\n",
       "  background-color: #5b5b5b;\n",
       "  color: #f1f1f1;\n",
       "}\n",
       "#T_e121c_row5_col14 {\n",
       "  font-size: 6pt;\n",
       "  background-color: #919191;\n",
       "  color: #f1f1f1;\n",
       "}\n",
       "#T_e121c_row5_col15 {\n",
       "  font-size: 6pt;\n",
       "  background-color: #e1e1e1;\n",
       "  color: #000000;\n",
       "}\n",
       "#T_e121c_row6_col3 {\n",
       "  font-size: 6pt;\n",
       "  background-color: #727272;\n",
       "  color: #f1f1f1;\n",
       "}\n",
       "#T_e121c_row6_col4, #T_e121c_row6_col5, #T_e121c_row6_col6, #T_e121c_row6_col7, #T_e121c_row6_col8, #T_e121c_row6_col9, #T_e121c_row6_col10, #T_e121c_row6_col11, #T_e121c_row6_col12, #T_e121c_row6_col13, #T_e121c_row6_col14, #T_e121c_row7_col3, #T_e121c_row7_col4, #T_e121c_row7_col5, #T_e121c_row7_col6, #T_e121c_row7_col15, #T_e121c_row7_col16, #T_e121c_row7_col17, #T_e121c_row8_col16, #T_e121c_row8_col17, #T_e121c_row8_col18, #T_e121c_row9_col15, #T_e121c_row9_col16 {\n",
       "  font-size: 6pt;\n",
       "  background-color: #000000;\n",
       "  color: #f1f1f1;\n",
       "}\n",
       "#T_e121c_row6_col15 {\n",
       "  font-size: 6pt;\n",
       "  background-color: #020202;\n",
       "  color: #f1f1f1;\n",
       "}\n",
       "#T_e121c_row6_col16 {\n",
       "  font-size: 6pt;\n",
       "  background-color: #363636;\n",
       "  color: #f1f1f1;\n",
       "}\n",
       "#T_e121c_row6_col17 {\n",
       "  font-size: 6pt;\n",
       "  background-color: #9d9d9d;\n",
       "  color: #f1f1f1;\n",
       "}\n",
       "#T_e121c_row6_col18 {\n",
       "  font-size: 6pt;\n",
       "  background-color: #dfdfdf;\n",
       "  color: #000000;\n",
       "}\n",
       "#T_e121c_row7_col7 {\n",
       "  font-size: 6pt;\n",
       "  background-color: #161616;\n",
       "  color: #f1f1f1;\n",
       "}\n",
       "#T_e121c_row7_col8, #T_e121c_row7_col9, #T_e121c_row7_col10, #T_e121c_row7_col11, #T_e121c_row7_col13 {\n",
       "  font-size: 6pt;\n",
       "  background-color: #535353;\n",
       "  color: #f1f1f1;\n",
       "}\n",
       "#T_e121c_row7_col12 {\n",
       "  font-size: 6pt;\n",
       "  background-color: #7c7c7c;\n",
       "  color: #f1f1f1;\n",
       "}\n",
       "#T_e121c_row7_col14 {\n",
       "  font-size: 6pt;\n",
       "  background-color: #3d3d3d;\n",
       "  color: #f1f1f1;\n",
       "}\n",
       "#T_e121c_row7_col18 {\n",
       "  font-size: 6pt;\n",
       "  background-color: #999999;\n",
       "  color: #f1f1f1;\n",
       "}\n",
       "#T_e121c_row8_col3 {\n",
       "  font-size: 6pt;\n",
       "  background-color: #eaeaea;\n",
       "  color: #000000;\n",
       "}\n",
       "#T_e121c_row8_col4 {\n",
       "  font-size: 6pt;\n",
       "  background-color: #d0d0d0;\n",
       "  color: #000000;\n",
       "}\n",
       "#T_e121c_row8_col5, #T_e121c_row8_col6 {\n",
       "  font-size: 6pt;\n",
       "  background-color: #eeeeee;\n",
       "  color: #000000;\n",
       "}\n",
       "#T_e121c_row8_col7 {\n",
       "  font-size: 6pt;\n",
       "  background-color: #f3f3f3;\n",
       "  color: #000000;\n",
       "}\n",
       "#T_e121c_row8_col15 {\n",
       "  font-size: 6pt;\n",
       "  background-color: #232323;\n",
       "  color: #f1f1f1;\n",
       "}\n",
       "#T_e121c_row9_col14 {\n",
       "  font-size: 6pt;\n",
       "  background-color: #c2c2c2;\n",
       "  color: #000000;\n",
       "}\n",
       "#T_e121c_row9_col17 {\n",
       "  font-size: 6pt;\n",
       "  background-color: #080808;\n",
       "  color: #f1f1f1;\n",
       "}\n",
       "#T_e121c_row9_col18 {\n",
       "  font-size: 6pt;\n",
       "  background-color: #c4c4c4;\n",
       "  color: #000000;\n",
       "}\n",
       "</style>\n",
       "<table id=\"T_e121c\">\n",
       "  <thead>\n",
       "    <tr>\n",
       "      <th class=\"blank level0\" >&nbsp;</th>\n",
       "      <th id=\"T_e121c_level0_col0\" class=\"col_heading level0 col0\" >0</th>\n",
       "      <th id=\"T_e121c_level0_col1\" class=\"col_heading level0 col1\" >1</th>\n",
       "      <th id=\"T_e121c_level0_col2\" class=\"col_heading level0 col2\" >2</th>\n",
       "      <th id=\"T_e121c_level0_col3\" class=\"col_heading level0 col3\" >3</th>\n",
       "      <th id=\"T_e121c_level0_col4\" class=\"col_heading level0 col4\" >4</th>\n",
       "      <th id=\"T_e121c_level0_col5\" class=\"col_heading level0 col5\" >5</th>\n",
       "      <th id=\"T_e121c_level0_col6\" class=\"col_heading level0 col6\" >6</th>\n",
       "      <th id=\"T_e121c_level0_col7\" class=\"col_heading level0 col7\" >7</th>\n",
       "      <th id=\"T_e121c_level0_col8\" class=\"col_heading level0 col8\" >8</th>\n",
       "      <th id=\"T_e121c_level0_col9\" class=\"col_heading level0 col9\" >9</th>\n",
       "      <th id=\"T_e121c_level0_col10\" class=\"col_heading level0 col10\" >10</th>\n",
       "      <th id=\"T_e121c_level0_col11\" class=\"col_heading level0 col11\" >11</th>\n",
       "      <th id=\"T_e121c_level0_col12\" class=\"col_heading level0 col12\" >12</th>\n",
       "      <th id=\"T_e121c_level0_col13\" class=\"col_heading level0 col13\" >13</th>\n",
       "      <th id=\"T_e121c_level0_col14\" class=\"col_heading level0 col14\" >14</th>\n",
       "      <th id=\"T_e121c_level0_col15\" class=\"col_heading level0 col15\" >15</th>\n",
       "      <th id=\"T_e121c_level0_col16\" class=\"col_heading level0 col16\" >16</th>\n",
       "      <th id=\"T_e121c_level0_col17\" class=\"col_heading level0 col17\" >17</th>\n",
       "      <th id=\"T_e121c_level0_col18\" class=\"col_heading level0 col18\" >18</th>\n",
       "      <th id=\"T_e121c_level0_col19\" class=\"col_heading level0 col19\" >19</th>\n",
       "    </tr>\n",
       "  </thead>\n",
       "  <tbody>\n",
       "    <tr>\n",
       "      <th id=\"T_e121c_level0_row0\" class=\"row_heading level0 row0\" >0</th>\n",
       "      <td id=\"T_e121c_row0_col0\" class=\"data row0 col0\" >0</td>\n",
       "      <td id=\"T_e121c_row0_col1\" class=\"data row0 col1\" >0</td>\n",
       "      <td id=\"T_e121c_row0_col2\" class=\"data row0 col2\" >0</td>\n",
       "      <td id=\"T_e121c_row0_col3\" class=\"data row0 col3\" >0</td>\n",
       "      <td id=\"T_e121c_row0_col4\" class=\"data row0 col4\" >0</td>\n",
       "      <td id=\"T_e121c_row0_col5\" class=\"data row0 col5\" >0</td>\n",
       "      <td id=\"T_e121c_row0_col6\" class=\"data row0 col6\" >0</td>\n",
       "      <td id=\"T_e121c_row0_col7\" class=\"data row0 col7\" >0</td>\n",
       "      <td id=\"T_e121c_row0_col8\" class=\"data row0 col8\" >0</td>\n",
       "      <td id=\"T_e121c_row0_col9\" class=\"data row0 col9\" >0</td>\n",
       "      <td id=\"T_e121c_row0_col10\" class=\"data row0 col10\" >0</td>\n",
       "      <td id=\"T_e121c_row0_col11\" class=\"data row0 col11\" >0</td>\n",
       "      <td id=\"T_e121c_row0_col12\" class=\"data row0 col12\" >0</td>\n",
       "      <td id=\"T_e121c_row0_col13\" class=\"data row0 col13\" >0</td>\n",
       "      <td id=\"T_e121c_row0_col14\" class=\"data row0 col14\" >0</td>\n",
       "      <td id=\"T_e121c_row0_col15\" class=\"data row0 col15\" >0</td>\n",
       "      <td id=\"T_e121c_row0_col16\" class=\"data row0 col16\" >0</td>\n",
       "      <td id=\"T_e121c_row0_col17\" class=\"data row0 col17\" >0</td>\n",
       "      <td id=\"T_e121c_row0_col18\" class=\"data row0 col18\" >0</td>\n",
       "      <td id=\"T_e121c_row0_col19\" class=\"data row0 col19\" >0</td>\n",
       "    </tr>\n",
       "    <tr>\n",
       "      <th id=\"T_e121c_level0_row1\" class=\"row_heading level0 row1\" >1</th>\n",
       "      <td id=\"T_e121c_row1_col0\" class=\"data row1 col0\" >0</td>\n",
       "      <td id=\"T_e121c_row1_col1\" class=\"data row1 col1\" >0</td>\n",
       "      <td id=\"T_e121c_row1_col2\" class=\"data row1 col2\" >0</td>\n",
       "      <td id=\"T_e121c_row1_col3\" class=\"data row1 col3\" >0</td>\n",
       "      <td id=\"T_e121c_row1_col4\" class=\"data row1 col4\" >0</td>\n",
       "      <td id=\"T_e121c_row1_col5\" class=\"data row1 col5\" >0</td>\n",
       "      <td id=\"T_e121c_row1_col6\" class=\"data row1 col6\" >0</td>\n",
       "      <td id=\"T_e121c_row1_col7\" class=\"data row1 col7\" >0</td>\n",
       "      <td id=\"T_e121c_row1_col8\" class=\"data row1 col8\" >0</td>\n",
       "      <td id=\"T_e121c_row1_col9\" class=\"data row1 col9\" >0</td>\n",
       "      <td id=\"T_e121c_row1_col10\" class=\"data row1 col10\" >0</td>\n",
       "      <td id=\"T_e121c_row1_col11\" class=\"data row1 col11\" >0</td>\n",
       "      <td id=\"T_e121c_row1_col12\" class=\"data row1 col12\" >0</td>\n",
       "      <td id=\"T_e121c_row1_col13\" class=\"data row1 col13\" >0</td>\n",
       "      <td id=\"T_e121c_row1_col14\" class=\"data row1 col14\" >0</td>\n",
       "      <td id=\"T_e121c_row1_col15\" class=\"data row1 col15\" >0</td>\n",
       "      <td id=\"T_e121c_row1_col16\" class=\"data row1 col16\" >0</td>\n",
       "      <td id=\"T_e121c_row1_col17\" class=\"data row1 col17\" >0</td>\n",
       "      <td id=\"T_e121c_row1_col18\" class=\"data row1 col18\" >0</td>\n",
       "      <td id=\"T_e121c_row1_col19\" class=\"data row1 col19\" >0</td>\n",
       "    </tr>\n",
       "    <tr>\n",
       "      <th id=\"T_e121c_level0_row2\" class=\"row_heading level0 row2\" >2</th>\n",
       "      <td id=\"T_e121c_row2_col0\" class=\"data row2 col0\" >0</td>\n",
       "      <td id=\"T_e121c_row2_col1\" class=\"data row2 col1\" >0</td>\n",
       "      <td id=\"T_e121c_row2_col2\" class=\"data row2 col2\" >0</td>\n",
       "      <td id=\"T_e121c_row2_col3\" class=\"data row2 col3\" >0</td>\n",
       "      <td id=\"T_e121c_row2_col4\" class=\"data row2 col4\" >0</td>\n",
       "      <td id=\"T_e121c_row2_col5\" class=\"data row2 col5\" >0</td>\n",
       "      <td id=\"T_e121c_row2_col6\" class=\"data row2 col6\" >0</td>\n",
       "      <td id=\"T_e121c_row2_col7\" class=\"data row2 col7\" >0</td>\n",
       "      <td id=\"T_e121c_row2_col8\" class=\"data row2 col8\" >0</td>\n",
       "      <td id=\"T_e121c_row2_col9\" class=\"data row2 col9\" >0</td>\n",
       "      <td id=\"T_e121c_row2_col10\" class=\"data row2 col10\" >0</td>\n",
       "      <td id=\"T_e121c_row2_col11\" class=\"data row2 col11\" >0</td>\n",
       "      <td id=\"T_e121c_row2_col12\" class=\"data row2 col12\" >0</td>\n",
       "      <td id=\"T_e121c_row2_col13\" class=\"data row2 col13\" >0</td>\n",
       "      <td id=\"T_e121c_row2_col14\" class=\"data row2 col14\" >0</td>\n",
       "      <td id=\"T_e121c_row2_col15\" class=\"data row2 col15\" >0</td>\n",
       "      <td id=\"T_e121c_row2_col16\" class=\"data row2 col16\" >0</td>\n",
       "      <td id=\"T_e121c_row2_col17\" class=\"data row2 col17\" >0</td>\n",
       "      <td id=\"T_e121c_row2_col18\" class=\"data row2 col18\" >0</td>\n",
       "      <td id=\"T_e121c_row2_col19\" class=\"data row2 col19\" >0</td>\n",
       "    </tr>\n",
       "    <tr>\n",
       "      <th id=\"T_e121c_level0_row3\" class=\"row_heading level0 row3\" >3</th>\n",
       "      <td id=\"T_e121c_row3_col0\" class=\"data row3 col0\" >0</td>\n",
       "      <td id=\"T_e121c_row3_col1\" class=\"data row3 col1\" >0</td>\n",
       "      <td id=\"T_e121c_row3_col2\" class=\"data row3 col2\" >0</td>\n",
       "      <td id=\"T_e121c_row3_col3\" class=\"data row3 col3\" >0</td>\n",
       "      <td id=\"T_e121c_row3_col4\" class=\"data row3 col4\" >0</td>\n",
       "      <td id=\"T_e121c_row3_col5\" class=\"data row3 col5\" >0</td>\n",
       "      <td id=\"T_e121c_row3_col6\" class=\"data row3 col6\" >0</td>\n",
       "      <td id=\"T_e121c_row3_col7\" class=\"data row3 col7\" >0</td>\n",
       "      <td id=\"T_e121c_row3_col8\" class=\"data row3 col8\" >0</td>\n",
       "      <td id=\"T_e121c_row3_col9\" class=\"data row3 col9\" >0</td>\n",
       "      <td id=\"T_e121c_row3_col10\" class=\"data row3 col10\" >0</td>\n",
       "      <td id=\"T_e121c_row3_col11\" class=\"data row3 col11\" >0</td>\n",
       "      <td id=\"T_e121c_row3_col12\" class=\"data row3 col12\" >0</td>\n",
       "      <td id=\"T_e121c_row3_col13\" class=\"data row3 col13\" >0</td>\n",
       "      <td id=\"T_e121c_row3_col14\" class=\"data row3 col14\" >0</td>\n",
       "      <td id=\"T_e121c_row3_col15\" class=\"data row3 col15\" >0</td>\n",
       "      <td id=\"T_e121c_row3_col16\" class=\"data row3 col16\" >0</td>\n",
       "      <td id=\"T_e121c_row3_col17\" class=\"data row3 col17\" >0</td>\n",
       "      <td id=\"T_e121c_row3_col18\" class=\"data row3 col18\" >0</td>\n",
       "      <td id=\"T_e121c_row3_col19\" class=\"data row3 col19\" >0</td>\n",
       "    </tr>\n",
       "    <tr>\n",
       "      <th id=\"T_e121c_level0_row4\" class=\"row_heading level0 row4\" >4</th>\n",
       "      <td id=\"T_e121c_row4_col0\" class=\"data row4 col0\" >0</td>\n",
       "      <td id=\"T_e121c_row4_col1\" class=\"data row4 col1\" >0</td>\n",
       "      <td id=\"T_e121c_row4_col2\" class=\"data row4 col2\" >0</td>\n",
       "      <td id=\"T_e121c_row4_col3\" class=\"data row4 col3\" >0</td>\n",
       "      <td id=\"T_e121c_row4_col4\" class=\"data row4 col4\" >0</td>\n",
       "      <td id=\"T_e121c_row4_col5\" class=\"data row4 col5\" >0</td>\n",
       "      <td id=\"T_e121c_row4_col6\" class=\"data row4 col6\" >0</td>\n",
       "      <td id=\"T_e121c_row4_col7\" class=\"data row4 col7\" >0</td>\n",
       "      <td id=\"T_e121c_row4_col8\" class=\"data row4 col8\" >0</td>\n",
       "      <td id=\"T_e121c_row4_col9\" class=\"data row4 col9\" >0</td>\n",
       "      <td id=\"T_e121c_row4_col10\" class=\"data row4 col10\" >0</td>\n",
       "      <td id=\"T_e121c_row4_col11\" class=\"data row4 col11\" >0</td>\n",
       "      <td id=\"T_e121c_row4_col12\" class=\"data row4 col12\" >0</td>\n",
       "      <td id=\"T_e121c_row4_col13\" class=\"data row4 col13\" >0</td>\n",
       "      <td id=\"T_e121c_row4_col14\" class=\"data row4 col14\" >0</td>\n",
       "      <td id=\"T_e121c_row4_col15\" class=\"data row4 col15\" >0</td>\n",
       "      <td id=\"T_e121c_row4_col16\" class=\"data row4 col16\" >0</td>\n",
       "      <td id=\"T_e121c_row4_col17\" class=\"data row4 col17\" >0</td>\n",
       "      <td id=\"T_e121c_row4_col18\" class=\"data row4 col18\" >0</td>\n",
       "      <td id=\"T_e121c_row4_col19\" class=\"data row4 col19\" >0</td>\n",
       "    </tr>\n",
       "    <tr>\n",
       "      <th id=\"T_e121c_level0_row5\" class=\"row_heading level0 row5\" >5</th>\n",
       "      <td id=\"T_e121c_row5_col0\" class=\"data row5 col0\" >0</td>\n",
       "      <td id=\"T_e121c_row5_col1\" class=\"data row5 col1\" >0</td>\n",
       "      <td id=\"T_e121c_row5_col2\" class=\"data row5 col2\" >0</td>\n",
       "      <td id=\"T_e121c_row5_col3\" class=\"data row5 col3\" >12</td>\n",
       "      <td id=\"T_e121c_row5_col4\" class=\"data row5 col4\" >99</td>\n",
       "      <td id=\"T_e121c_row5_col5\" class=\"data row5 col5\" >91</td>\n",
       "      <td id=\"T_e121c_row5_col6\" class=\"data row5 col6\" >142</td>\n",
       "      <td id=\"T_e121c_row5_col7\" class=\"data row5 col7\" >155</td>\n",
       "      <td id=\"T_e121c_row5_col8\" class=\"data row5 col8\" >246</td>\n",
       "      <td id=\"T_e121c_row5_col9\" class=\"data row5 col9\" >182</td>\n",
       "      <td id=\"T_e121c_row5_col10\" class=\"data row5 col10\" >155</td>\n",
       "      <td id=\"T_e121c_row5_col11\" class=\"data row5 col11\" >155</td>\n",
       "      <td id=\"T_e121c_row5_col12\" class=\"data row5 col12\" >155</td>\n",
       "      <td id=\"T_e121c_row5_col13\" class=\"data row5 col13\" >155</td>\n",
       "      <td id=\"T_e121c_row5_col14\" class=\"data row5 col14\" >131</td>\n",
       "      <td id=\"T_e121c_row5_col15\" class=\"data row5 col15\" >52</td>\n",
       "      <td id=\"T_e121c_row5_col16\" class=\"data row5 col16\" >0</td>\n",
       "      <td id=\"T_e121c_row5_col17\" class=\"data row5 col17\" >0</td>\n",
       "      <td id=\"T_e121c_row5_col18\" class=\"data row5 col18\" >0</td>\n",
       "      <td id=\"T_e121c_row5_col19\" class=\"data row5 col19\" >0</td>\n",
       "    </tr>\n",
       "    <tr>\n",
       "      <th id=\"T_e121c_level0_row6\" class=\"row_heading level0 row6\" >6</th>\n",
       "      <td id=\"T_e121c_row6_col0\" class=\"data row6 col0\" >0</td>\n",
       "      <td id=\"T_e121c_row6_col1\" class=\"data row6 col1\" >0</td>\n",
       "      <td id=\"T_e121c_row6_col2\" class=\"data row6 col2\" >0</td>\n",
       "      <td id=\"T_e121c_row6_col3\" class=\"data row6 col3\" >138</td>\n",
       "      <td id=\"T_e121c_row6_col4\" class=\"data row6 col4\" >254</td>\n",
       "      <td id=\"T_e121c_row6_col5\" class=\"data row6 col5\" >254</td>\n",
       "      <td id=\"T_e121c_row6_col6\" class=\"data row6 col6\" >254</td>\n",
       "      <td id=\"T_e121c_row6_col7\" class=\"data row6 col7\" >254</td>\n",
       "      <td id=\"T_e121c_row6_col8\" class=\"data row6 col8\" >254</td>\n",
       "      <td id=\"T_e121c_row6_col9\" class=\"data row6 col9\" >254</td>\n",
       "      <td id=\"T_e121c_row6_col10\" class=\"data row6 col10\" >254</td>\n",
       "      <td id=\"T_e121c_row6_col11\" class=\"data row6 col11\" >254</td>\n",
       "      <td id=\"T_e121c_row6_col12\" class=\"data row6 col12\" >254</td>\n",
       "      <td id=\"T_e121c_row6_col13\" class=\"data row6 col13\" >254</td>\n",
       "      <td id=\"T_e121c_row6_col14\" class=\"data row6 col14\" >254</td>\n",
       "      <td id=\"T_e121c_row6_col15\" class=\"data row6 col15\" >252</td>\n",
       "      <td id=\"T_e121c_row6_col16\" class=\"data row6 col16\" >210</td>\n",
       "      <td id=\"T_e121c_row6_col17\" class=\"data row6 col17\" >122</td>\n",
       "      <td id=\"T_e121c_row6_col18\" class=\"data row6 col18\" >33</td>\n",
       "      <td id=\"T_e121c_row6_col19\" class=\"data row6 col19\" >0</td>\n",
       "    </tr>\n",
       "    <tr>\n",
       "      <th id=\"T_e121c_level0_row7\" class=\"row_heading level0 row7\" >7</th>\n",
       "      <td id=\"T_e121c_row7_col0\" class=\"data row7 col0\" >0</td>\n",
       "      <td id=\"T_e121c_row7_col1\" class=\"data row7 col1\" >0</td>\n",
       "      <td id=\"T_e121c_row7_col2\" class=\"data row7 col2\" >0</td>\n",
       "      <td id=\"T_e121c_row7_col3\" class=\"data row7 col3\" >220</td>\n",
       "      <td id=\"T_e121c_row7_col4\" class=\"data row7 col4\" >254</td>\n",
       "      <td id=\"T_e121c_row7_col5\" class=\"data row7 col5\" >254</td>\n",
       "      <td id=\"T_e121c_row7_col6\" class=\"data row7 col6\" >254</td>\n",
       "      <td id=\"T_e121c_row7_col7\" class=\"data row7 col7\" >235</td>\n",
       "      <td id=\"T_e121c_row7_col8\" class=\"data row7 col8\" >189</td>\n",
       "      <td id=\"T_e121c_row7_col9\" class=\"data row7 col9\" >189</td>\n",
       "      <td id=\"T_e121c_row7_col10\" class=\"data row7 col10\" >189</td>\n",
       "      <td id=\"T_e121c_row7_col11\" class=\"data row7 col11\" >189</td>\n",
       "      <td id=\"T_e121c_row7_col12\" class=\"data row7 col12\" >150</td>\n",
       "      <td id=\"T_e121c_row7_col13\" class=\"data row7 col13\" >189</td>\n",
       "      <td id=\"T_e121c_row7_col14\" class=\"data row7 col14\" >205</td>\n",
       "      <td id=\"T_e121c_row7_col15\" class=\"data row7 col15\" >254</td>\n",
       "      <td id=\"T_e121c_row7_col16\" class=\"data row7 col16\" >254</td>\n",
       "      <td id=\"T_e121c_row7_col17\" class=\"data row7 col17\" >254</td>\n",
       "      <td id=\"T_e121c_row7_col18\" class=\"data row7 col18\" >75</td>\n",
       "      <td id=\"T_e121c_row7_col19\" class=\"data row7 col19\" >0</td>\n",
       "    </tr>\n",
       "    <tr>\n",
       "      <th id=\"T_e121c_level0_row8\" class=\"row_heading level0 row8\" >8</th>\n",
       "      <td id=\"T_e121c_row8_col0\" class=\"data row8 col0\" >0</td>\n",
       "      <td id=\"T_e121c_row8_col1\" class=\"data row8 col1\" >0</td>\n",
       "      <td id=\"T_e121c_row8_col2\" class=\"data row8 col2\" >0</td>\n",
       "      <td id=\"T_e121c_row8_col3\" class=\"data row8 col3\" >35</td>\n",
       "      <td id=\"T_e121c_row8_col4\" class=\"data row8 col4\" >74</td>\n",
       "      <td id=\"T_e121c_row8_col5\" class=\"data row8 col5\" >35</td>\n",
       "      <td id=\"T_e121c_row8_col6\" class=\"data row8 col6\" >35</td>\n",
       "      <td id=\"T_e121c_row8_col7\" class=\"data row8 col7\" >25</td>\n",
       "      <td id=\"T_e121c_row8_col8\" class=\"data row8 col8\" >0</td>\n",
       "      <td id=\"T_e121c_row8_col9\" class=\"data row8 col9\" >0</td>\n",
       "      <td id=\"T_e121c_row8_col10\" class=\"data row8 col10\" >0</td>\n",
       "      <td id=\"T_e121c_row8_col11\" class=\"data row8 col11\" >0</td>\n",
       "      <td id=\"T_e121c_row8_col12\" class=\"data row8 col12\" >0</td>\n",
       "      <td id=\"T_e121c_row8_col13\" class=\"data row8 col13\" >0</td>\n",
       "      <td id=\"T_e121c_row8_col14\" class=\"data row8 col14\" >13</td>\n",
       "      <td id=\"T_e121c_row8_col15\" class=\"data row8 col15\" >224</td>\n",
       "      <td id=\"T_e121c_row8_col16\" class=\"data row8 col16\" >254</td>\n",
       "      <td id=\"T_e121c_row8_col17\" class=\"data row8 col17\" >254</td>\n",
       "      <td id=\"T_e121c_row8_col18\" class=\"data row8 col18\" >153</td>\n",
       "      <td id=\"T_e121c_row8_col19\" class=\"data row8 col19\" >0</td>\n",
       "    </tr>\n",
       "    <tr>\n",
       "      <th id=\"T_e121c_level0_row9\" class=\"row_heading level0 row9\" >9</th>\n",
       "      <td id=\"T_e121c_row9_col0\" class=\"data row9 col0\" >0</td>\n",
       "      <td id=\"T_e121c_row9_col1\" class=\"data row9 col1\" >0</td>\n",
       "      <td id=\"T_e121c_row9_col2\" class=\"data row9 col2\" >0</td>\n",
       "      <td id=\"T_e121c_row9_col3\" class=\"data row9 col3\" >0</td>\n",
       "      <td id=\"T_e121c_row9_col4\" class=\"data row9 col4\" >0</td>\n",
       "      <td id=\"T_e121c_row9_col5\" class=\"data row9 col5\" >0</td>\n",
       "      <td id=\"T_e121c_row9_col6\" class=\"data row9 col6\" >0</td>\n",
       "      <td id=\"T_e121c_row9_col7\" class=\"data row9 col7\" >0</td>\n",
       "      <td id=\"T_e121c_row9_col8\" class=\"data row9 col8\" >0</td>\n",
       "      <td id=\"T_e121c_row9_col9\" class=\"data row9 col9\" >0</td>\n",
       "      <td id=\"T_e121c_row9_col10\" class=\"data row9 col10\" >0</td>\n",
       "      <td id=\"T_e121c_row9_col11\" class=\"data row9 col11\" >0</td>\n",
       "      <td id=\"T_e121c_row9_col12\" class=\"data row9 col12\" >0</td>\n",
       "      <td id=\"T_e121c_row9_col13\" class=\"data row9 col13\" >0</td>\n",
       "      <td id=\"T_e121c_row9_col14\" class=\"data row9 col14\" >90</td>\n",
       "      <td id=\"T_e121c_row9_col15\" class=\"data row9 col15\" >254</td>\n",
       "      <td id=\"T_e121c_row9_col16\" class=\"data row9 col16\" >254</td>\n",
       "      <td id=\"T_e121c_row9_col17\" class=\"data row9 col17\" >247</td>\n",
       "      <td id=\"T_e121c_row9_col18\" class=\"data row9 col18\" >53</td>\n",
       "      <td id=\"T_e121c_row9_col19\" class=\"data row9 col19\" >0</td>\n",
       "    </tr>\n",
       "  </tbody>\n",
       "</table>\n"
      ],
      "text/plain": [
       "<pandas.io.formats.style.Styler at 0x7fc1ae0098e0>"
      ]
     },
     "execution_count": 15,
     "metadata": {},
     "output_type": "execute_result"
    }
   ],
   "source": [
    "df = pd.DataFrame(im3_t[:10, :20])\n",
    "df.style.set_properties(**{'font-size': '6pt'}).background_gradient('Grays')"
   ]
  },
  {
   "cell_type": "code",
   "execution_count": 17,
   "metadata": {},
   "outputs": [
    {
     "data": {
      "text/plain": [
       "(tensor(762), tensor(-29))"
      ]
     },
     "execution_count": 17,
     "metadata": {},
     "output_type": "execute_result"
    }
   ],
   "source": [
    "(im3_t[4:7, 6:9] * top_edge).sum(), (im3_t[7:10, 17:20] * top_edge).sum(), "
   ]
  },
  {
   "cell_type": "code",
   "execution_count": 31,
   "metadata": {},
   "outputs": [
    {
     "data": {
      "text/plain": [
       "tensor(762)"
      ]
     },
     "execution_count": 31,
     "metadata": {},
     "output_type": "execute_result"
    }
   ],
   "source": [
    "def applay_kernel(row, col, kernel):\n",
    "\n",
    "    #print(f\"{row} {col} : {im3_t[row-1:row+2, col-1:col+2].shape}\")\n",
    "    return (im3_t[row-1:row+2, col-1:col+2] * kernel).sum()\n",
    "\n",
    "applay_kernel(5, 7, top_edge)"
   ]
  },
  {
   "cell_type": "code",
   "execution_count": 24,
   "metadata": {},
   "outputs": [
    {
     "data": {
      "text/plain": [
       "[[(1, 1), (1, 2), (1, 3)], [(2, 1), (2, 2), (2, 3)], [(3, 1), (3, 2), (3, 3)]]"
      ]
     },
     "execution_count": 24,
     "metadata": {},
     "output_type": "execute_result"
    }
   ],
   "source": [
    "[[(i, j) for j in range(1,4)] for i in range(1, 4)]"
   ]
  },
  {
   "cell_type": "code",
   "execution_count": 32,
   "metadata": {},
   "outputs": [],
   "source": [
    "rng = range(1, 27)\n",
    "im_n = [[applay_kernel(i , j, top_edge) for j in rng] for i in rng]"
   ]
  },
  {
   "cell_type": "code",
   "execution_count": 33,
   "metadata": {},
   "outputs": [
    {
     "data": {
      "text/plain": [
       "<Axes: >"
      ]
     },
     "execution_count": 33,
     "metadata": {},
     "output_type": "execute_result"
    },
    {
     "data": {
      "image/png": "[encoded data removed]",
      "text/plain": [
       "<Figure size 100x100 with 1 Axes>"
      ]
     },
     "metadata": {},
     "output_type": "display_data"
    }
   ],
   "source": [
    "show_image(im_n)"
   ]
  },
  {
   "cell_type": "code",
   "execution_count": 34,
   "metadata": {},
   "outputs": [
    {
     "data": {
      "text/plain": [
       "<Axes: >"
      ]
     },
     "execution_count": 34,
     "metadata": {},
     "output_type": "execute_result"
    },
    {
     "data": {
      "image/png": "[encoded data removed]",
      "text/plain": [
       "<Figure size 100x100 with 1 Axes>"
      ]
     },
     "metadata": {},
     "output_type": "display_data"
    }
   ],
   "source": [
    "buttom_edge = tensor([[1, 1, 1],\n",
    "                   [0, 0, 0],\n",
    "                   [-1, -1, -1]])\n",
    "im_n = [[applay_kernel(i , j, buttom_edge) for j in rng] for i in rng]\n",
    "show_image(im_n)\n"
   ]
  },
  {
   "cell_type": "code",
   "execution_count": 35,
   "metadata": {},
   "outputs": [],
   "source": [
    "dig_edge1 = tensor([[0, -1, 1],\n",
    "                    [-1, 1, 0],\n",
    "                    [1, 0, 0]])\n",
    "dig_edge2 = tensor([[-1, 1, 0],\n",
    "                    [0, 1, -1],\n",
    "                    [0, 0, 1]])\n",
    "kernels = torch.stack([top_edge, buttom_edge, dig_edge1, dig_edge2])"
   ]
  },
  {
   "cell_type": "code",
   "execution_count": 36,
   "metadata": {},
   "outputs": [
    {
     "data": {
      "text/plain": [
       "torch.Size([4, 3, 3])"
      ]
     },
     "execution_count": 36,
     "metadata": {},
     "output_type": "execute_result"
    }
   ],
   "source": [
    "kernels.shape"
   ]
  },
  {
   "cell_type": "code",
   "execution_count": 37,
   "metadata": {},
   "outputs": [
    {
     "data": {
      "image/png": "[encoded data removed]",
      "text/plain": [
       "<Figure size 900x900 with 9 Axes>"
      ]
     },
     "metadata": {},
     "output_type": "display_data"
    }
   ],
   "source": [
    "mnist = DataBlock((ImageBlock(cls = PILImageBW), CategoryBlock),\n",
    "                  get_items=get_image_files,\n",
    "                  splitter=GrandparentSplitter(),\n",
    "                  get_y=parent_label)\n",
    "dls = mnist.dataloaders(path)\n",
    "dls.show_batch()"
   ]
  },
  {
   "cell_type": "code",
   "execution_count": 38,
   "metadata": {},
   "outputs": [
    {
     "data": {
      "text/plain": [
       "torch.Size([64, 1, 28, 28])"
      ]
     },
     "execution_count": 38,
     "metadata": {},
     "output_type": "execute_result"
    }
   ],
   "source": [
    "xb, yb = dls.one_batch()\n",
    "xb.shape"
   ]
  },
  {
   "cell_type": "code",
   "execution_count": 39,
   "metadata": {},
   "outputs": [],
   "source": [
    "xb, yb = to_cpu(xb), to_cpu(yb)"
   ]
  },
  {
   "cell_type": "code",
   "execution_count": 42,
   "metadata": {},
   "outputs": [
    {
     "data": {
      "text/plain": [
       "torch.Size([4, 1, 3, 3])"
      ]
     },
     "execution_count": 42,
     "metadata": {},
     "output_type": "execute_result"
    }
   ],
   "source": [
    "kernels.unsqueeze_(1).shape"
   ]
  },
  {
   "cell_type": "code",
   "execution_count": 46,
   "metadata": {},
   "outputs": [
    {
     "data": {
      "text/plain": [
       "(torch.float32, torch.int64)"
      ]
     },
     "execution_count": 46,
     "metadata": {},
     "output_type": "execute_result"
    }
   ],
   "source": [
    "xb.dtype, kernels.dtype"
   ]
  },
  {
   "cell_type": "code",
   "execution_count": 47,
   "metadata": {},
   "outputs": [
    {
     "data": {
      "text/plain": [
       "torch.Size([64, 4, 26, 26])"
      ]
     },
     "execution_count": 47,
     "metadata": {},
     "output_type": "execute_result"
    }
   ],
   "source": [
    "batch_features = F.conv2d(xb, kernels.float())\n",
    "batch_features.shape"
   ]
  },
  {
   "cell_type": "code",
   "execution_count": 48,
   "metadata": {},
   "outputs": [
    {
     "data": {
      "text/plain": [
       "[<Axes: >, <Axes: >, <Axes: >, <Axes: >]"
      ]
     },
     "execution_count": 48,
     "metadata": {},
     "output_type": "execute_result"
    },
    {
     "data": {
      "image/png": "[encoded data removed]",
      "text/plain": [
       "<Figure size 100x100 with 1 Axes>"
      ]
     },
     "metadata": {},
     "output_type": "display_data"
    },
    {
     "data": {
      "image/png": "[encoded data removed]",
      "text/plain": [
       "<Figure size 100x100 with 1 Axes>"
      ]
     },
     "metadata": {},
     "output_type": "display_data"
    },
    {
     "data": {
      "image/png": "[encoded data removed]",
      "text/plain": [
       "<Figure size 100x100 with 1 Axes>"
      ]
     },
     "metadata": {},
     "output_type": "display_data"
    },
    {
     "data": {
      "image/png": "[encoded data removed]",
      "text/plain": [
       "<Figure size 100x100 with 1 Axes>"
      ]
     },
     "metadata": {},
     "output_type": "display_data"
    }
   ],
   "source": [
    "[show_image(batch_features[0,i]) for i in range(4)]"
   ]
  },
  {
   "cell_type": "code",
   "execution_count": 54,
   "metadata": {},
   "outputs": [
    {
     "data": {
      "text/plain": [
       "torch.Size([64, 1, 26, 26])"
      ]
     },
     "execution_count": 54,
     "metadata": {},
     "output_type": "execute_result"
    }
   ],
   "source": [
    "broken_cnn = sequential(\n",
    "    nn.Conv2d(1, 30, kernel_size=3, stride=1, padding=1), \n",
    "    nn.ReLU(),\n",
    "    nn.Conv2d(30, 1, kernel_size=3,)\n",
    ")\n",
    "broken_cnn(xb).shape"
   ]
  },
  {
   "cell_type": "code",
   "execution_count": 55,
   "metadata": {},
   "outputs": [],
   "source": [
    "def conv(ni, nf, ks=3, act=True):\n",
    "    res = nn.Conv2d(ni, nf, stride=2, kernel_size=ks, padding=ks//2 )\n",
    "    if act: \n",
    "        res = nn.Sequential(res, nn.ReLU())\n",
    "    \n",
    "    return res"
   ]
  },
  {
   "cell_type": "code",
   "execution_count": 56,
   "metadata": {},
   "outputs": [],
   "source": [
    "simple_cnn = sequential(\n",
    "    conv(1, 4),\n",
    "    conv(4, 8),\n",
    "    conv(8, 16),\n",
    "    conv(16, 32),\n",
    "    conv(32, 2, act=False),\n",
    "    Flatten()\n",
    ")"
   ]
  },
  {
   "cell_type": "code",
   "execution_count": 57,
   "metadata": {},
   "outputs": [
    {
     "data": {
      "text/plain": [
       "torch.Size([64, 2])"
      ]
     },
     "execution_count": 57,
     "metadata": {},
     "output_type": "execute_result"
    }
   ],
   "source": [
    "simple_cnn(xb).shape"
   ]
  },
  {
   "cell_type": "code",
   "execution_count": 58,
   "metadata": {},
   "outputs": [
    {
     "data": {
      "text/html": [
       "\n",
       "<style>\n",
       "    /* Turns off some styling */\n",
       "    progress {\n",
       "        /* gets rid of default border in Firefox and Opera. */\n",
       "        border: none;\n",
       "        /* Needs to be in here for Safari polyfill so background images work as expected. */\n",
       "        background-size: auto;\n",
       "    }\n",
       "    progress:not([value]), progress:not([value])::-webkit-progress-bar {\n",
       "        background: repeating-linear-gradient(45deg, #7e7e7e, #7e7e7e 10px, #5c5c5c 10px, #5c5c5c 20px);\n",
       "    }\n",
       "    .progress-bar-interrupted, .progress-bar-interrupted::-webkit-progress-bar {\n",
       "        background: #F44336;\n",
       "    }\n",
       "</style>\n"
      ],
      "text/plain": [
       "<IPython.core.display.HTML object>"
      ]
     },
     "metadata": {},
     "output_type": "display_data"
    },
    {
     "data": {
      "text/html": [],
      "text/plain": [
       "<IPython.core.display.HTML object>"
      ]
     },
     "metadata": {},
     "output_type": "display_data"
    },
    {
     "data": {
      "text/plain": [
       "Sequential (Input shape: 64 x 1 x 28 x 28)\n",
       "============================================================================\n",
       "Layer (type)         Output Shape         Param #    Trainable \n",
       "============================================================================\n",
       "                     64 x 4 x 14 x 14    \n",
       "Conv2d                                    40         True      \n",
       "ReLU                                                           \n",
       "____________________________________________________________________________\n",
       "                     64 x 8 x 7 x 7      \n",
       "Conv2d                                    296        True      \n",
       "ReLU                                                           \n",
       "____________________________________________________________________________\n",
       "                     64 x 16 x 4 x 4     \n",
       "Conv2d                                    1168       True      \n",
       "ReLU                                                           \n",
       "____________________________________________________________________________\n",
       "                     64 x 32 x 2 x 2     \n",
       "Conv2d                                    4640       True      \n",
       "ReLU                                                           \n",
       "____________________________________________________________________________\n",
       "                     64 x 2 x 1 x 1      \n",
       "Conv2d                                    578        True      \n",
       "____________________________________________________________________________\n",
       "                     64 x 2              \n",
       "Flatten                                                        \n",
       "____________________________________________________________________________\n",
       "\n",
       "Total params: 6,722\n",
       "Total trainable params: 6,722\n",
       "Total non-trainable params: 0\n",
       "\n",
       "Optimizer used: <function Adam at 0x7fc1b33e2c00>\n",
       "Loss function: <function cross_entropy at 0x7fc1dbaef2e0>\n",
       "\n",
       "Callbacks:\n",
       "  - TrainEvalCallback\n",
       "  - CastToTensor\n",
       "  - Recorder\n",
       "  - ProgressCallback"
      ]
     },
     "execution_count": 58,
     "metadata": {},
     "output_type": "execute_result"
    }
   ],
   "source": [
    "learn = Learner(dls, simple_cnn, loss_func=F.cross_entropy, metrics=accuracy)\n",
    "learn.summary()"
   ]
  },
  {
   "cell_type": "code",
   "execution_count": 59,
   "metadata": {},
   "outputs": [
    {
     "data": {
      "text/html": [
       "\n",
       "<style>\n",
       "    /* Turns off some styling */\n",
       "    progress {\n",
       "        /* gets rid of default border in Firefox and Opera. */\n",
       "        border: none;\n",
       "        /* Needs to be in here for Safari polyfill so background images work as expected. */\n",
       "        background-size: auto;\n",
       "    }\n",
       "    progress:not([value]), progress:not([value])::-webkit-progress-bar {\n",
       "        background: repeating-linear-gradient(45deg, #7e7e7e, #7e7e7e 10px, #5c5c5c 10px, #5c5c5c 20px);\n",
       "    }\n",
       "    .progress-bar-interrupted, .progress-bar-interrupted::-webkit-progress-bar {\n",
       "        background: #F44336;\n",
       "    }\n",
       "</style>\n"
      ],
      "text/plain": [
       "<IPython.core.display.HTML object>"
      ]
     },
     "metadata": {},
     "output_type": "display_data"
    },
    {
     "data": {
      "text/html": [
       "<table border=\"1\" class=\"dataframe\">\n",
       "  <thead>\n",
       "    <tr style=\"text-align: left;\">\n",
       "      <th>epoch</th>\n",
       "      <th>train_loss</th>\n",
       "      <th>valid_loss</th>\n",
       "      <th>accuracy</th>\n",
       "      <th>time</th>\n",
       "    </tr>\n",
       "  </thead>\n",
       "  <tbody>\n",
       "    <tr>\n",
       "      <td>0</td>\n",
       "      <td>0.080183</td>\n",
       "      <td>0.044797</td>\n",
       "      <td>0.985770</td>\n",
       "      <td>00:24</td>\n",
       "    </tr>\n",
       "    <tr>\n",
       "      <td>1</td>\n",
       "      <td>0.025655</td>\n",
       "      <td>0.031173</td>\n",
       "      <td>0.992149</td>\n",
       "      <td>00:16</td>\n",
       "    </tr>\n",
       "  </tbody>\n",
       "</table>"
      ],
      "text/plain": [
       "<IPython.core.display.HTML object>"
      ]
     },
     "metadata": {},
     "output_type": "display_data"
    }
   ],
   "source": [
    "learn.fit_one_cycle(2, 0.01)"
   ]
  },
  {
   "cell_type": "code",
   "execution_count": 62,
   "metadata": {},
   "outputs": [
    {
     "data": {
      "text/plain": [
       "Sequential(\n",
       "  (0): Conv2d(1, 4, kernel_size=(3, 3), stride=(2, 2), padding=(1, 1))\n",
       "  (1): ReLU()\n",
       ")"
      ]
     },
     "execution_count": 62,
     "metadata": {},
     "output_type": "execute_result"
    }
   ],
   "source": [
    "m = learn.model[0]\n",
    "m"
   ]
  },
  {
   "cell_type": "code",
   "execution_count": 67,
   "metadata": {},
   "outputs": [
    {
     "data": {
      "text/plain": [
       "(torch.Size([4, 1, 3, 3]), torch.Size([4]))"
      ]
     },
     "execution_count": 67,
     "metadata": {},
     "output_type": "execute_result"
    }
   ],
   "source": [
    "m[0].weight.shape, m[0].bias.shape"
   ]
  },
  {
   "cell_type": "code",
   "execution_count": 68,
   "metadata": {},
   "outputs": [
    {
     "data": {
      "text/plain": [
       "(Sequential(\n",
       "   (0): Conv2d(4, 8, kernel_size=(3, 3), stride=(2, 2), padding=(1, 1))\n",
       "   (1): ReLU()\n",
       " ),\n",
       " torch.Size([8, 4, 3, 3]),\n",
       " torch.Size([8]))"
      ]
     },
     "execution_count": 68,
     "metadata": {},
     "output_type": "execute_result"
    }
   ],
   "source": [
    "m = learn.model[1]\n",
    "m, m[0].weight.shape, m[0].bias.shape"
   ]
  },
  {
   "cell_type": "code",
   "execution_count": 71,
   "metadata": {},
   "outputs": [
    {
     "data": {
      "text/plain": [
       "(#2) [Path('/root/.fastai/data/mnist_png/testing'),Path('/root/.fastai/data/mnist_png/training')]"
      ]
     },
     "execution_count": 71,
     "metadata": {},
     "output_type": "execute_result"
    }
   ],
   "source": [
    "path = untar_data(URLs.MNIST)\n",
    "path.ls()"
   ]
  },
  {
   "cell_type": "code",
   "execution_count": 103,
   "metadata": {},
   "outputs": [],
   "source": [
    "def get_dls(bs=64):\n",
    "    return DataBlock(\n",
    "        blocks = (ImageBlock(cls = PILImageBW), CategoryBlock),\n",
    "        get_items=get_image_files,\n",
    "        splitter=GrandparentSplitter('training', 'testing'),\n",
    "        get_y=parent_label,\n",
    "        batch_tfms=Normalize()\n",
    "    ).dataloaders(path, bs=bs)\n",
    "\n",
    "dls = get_dls()"
   ]
  },
  {
   "cell_type": "code",
   "execution_count": 104,
   "metadata": {},
   "outputs": [
    {
     "data": {
      "image/png": "[encoded data removed]",
      "text/plain": [
       "<Figure size 400x400 with 9 Axes>"
      ]
     },
     "metadata": {},
     "output_type": "display_data"
    }
   ],
   "source": [
    "dls.show_batch(max_n=9, figsize=(4,4))"
   ]
  },
  {
   "cell_type": "code",
   "execution_count": 105,
   "metadata": {},
   "outputs": [],
   "source": [
    "def simple_cnn():\n",
    "    return sequential(\n",
    "        conv(1, 8, ks=5),\n",
    "        conv(8, 16),\n",
    "        conv(16, 32),\n",
    "        conv(32, 64),\n",
    "        conv(64, 10, act=False),\n",
    "        Flatten()\n",
    "    )"
   ]
  },
  {
   "cell_type": "code",
   "execution_count": 106,
   "metadata": {},
   "outputs": [],
   "source": [
    "from fastai.callback.hook import *\n",
    "def fit(epochs = 1):\n",
    "    learn = Learner(dls, simple_cnn(), loss_func=CrossEntropyLossFlat(),\n",
    "                    metrics=accuracy, cbs=ActivationStats(with_hist=True))\n",
    "    learn.fit(epochs, 0.06)\n",
    "    return learn"
   ]
  },
  {
   "cell_type": "code",
   "execution_count": 108,
   "metadata": {},
   "outputs": [
    {
     "data": {
      "text/html": [
       "\n",
       "<style>\n",
       "    /* Turns off some styling */\n",
       "    progress {\n",
       "        /* gets rid of default border in Firefox and Opera. */\n",
       "        border: none;\n",
       "        /* Needs to be in here for Safari polyfill so background images work as expected. */\n",
       "        background-size: auto;\n",
       "    }\n",
       "    progress:not([value]), progress:not([value])::-webkit-progress-bar {\n",
       "        background: repeating-linear-gradient(45deg, #7e7e7e, #7e7e7e 10px, #5c5c5c 10px, #5c5c5c 20px);\n",
       "    }\n",
       "    .progress-bar-interrupted, .progress-bar-interrupted::-webkit-progress-bar {\n",
       "        background: #F44336;\n",
       "    }\n",
       "</style>\n"
      ],
      "text/plain": [
       "<IPython.core.display.HTML object>"
      ]
     },
     "metadata": {},
     "output_type": "display_data"
    },
    {
     "data": {
      "text/html": [
       "<table border=\"1\" class=\"dataframe\">\n",
       "  <thead>\n",
       "    <tr style=\"text-align: left;\">\n",
       "      <th>epoch</th>\n",
       "      <th>train_loss</th>\n",
       "      <th>valid_loss</th>\n",
       "      <th>accuracy</th>\n",
       "      <th>time</th>\n",
       "    </tr>\n",
       "  </thead>\n",
       "  <tbody>\n",
       "    <tr>\n",
       "      <td>0</td>\n",
       "      <td>2.305802</td>\n",
       "      <td>2.304499</td>\n",
       "      <td>0.113500</td>\n",
       "      <td>00:53</td>\n",
       "    </tr>\n",
       "  </tbody>\n",
       "</table>"
      ],
      "text/plain": [
       "<IPython.core.display.HTML object>"
      ]
     },
     "metadata": {},
     "output_type": "display_data"
    }
   ],
   "source": [
    "learn = fit()"
   ]
  },
  {
   "cell_type": "code",
   "execution_count": 99,
   "metadata": {},
   "outputs": [
    {
     "data": {
      "text/plain": [
       "TensorCategory([0, 1, 3, 1, 1, 1, 7, 4, 3, 9, 1, 4, 8, 8, 1, 1, 7, 9, 8, 7, 7,\n",
       "                6, 1, 7, 4, 8, 2, 0, 1, 1, 3, 4, 4, 8, 8, 8, 5, 4, 8, 2, 6, 3,\n",
       "                9, 6, 4, 5, 5, 9, 3, 1, 3, 0, 3, 6, 9, 6, 2, 8, 6, 9, 1, 9, 4,\n",
       "                9])"
      ]
     },
     "execution_count": 99,
     "metadata": {},
     "output_type": "execute_result"
    }
   ],
   "source": [
    "x, y = dls_new.one_batch()\n",
    "y"
   ]
  },
  {
   "cell_type": "code",
   "execution_count": 100,
   "metadata": {},
   "outputs": [
    {
     "data": {
      "text/plain": [
       "torch.Size([64, 1, 28, 28])"
      ]
     },
     "execution_count": 100,
     "metadata": {},
     "output_type": "execute_result"
    }
   ],
   "source": [
    "x.shape"
   ]
  },
  {
   "cell_type": "code",
   "execution_count": 101,
   "metadata": {},
   "outputs": [],
   "source": [
    "learn = Learner(dls, simple_cnn(), loss_func=F.cross_entropy,\n",
    "                    metrics=accuracy, cbs=ActivationStats(with_hist=True))"
   ]
  },
  {
   "cell_type": "code",
   "execution_count": 102,
   "metadata": {},
   "outputs": [
    {
     "data": {
      "text/plain": [
       "TensorImageBW([[-0.0298],\n",
       "               [-0.0407]], grad_fn=<AliasBackward0>)"
      ]
     },
     "execution_count": 102,
     "metadata": {},
     "output_type": "execute_result"
    }
   ],
   "source": [
    "learn.model(x[0])"
   ]
  },
  {
   "cell_type": "code",
   "execution_count": null,
   "metadata": {},
   "outputs": [],
   "source": []
  }
 ],
 "metadata": {
  "kernelspec": {
   "display_name": "base",
   "language": "python",
   "name": "python3"
  },
  "language_info": {
   "codemirror_mode": {
    "name": "ipython",
    "version": 3
   },
   "file_extension": ".py",
   "mimetype": "text/x-python",
   "name": "python",
   "nbconvert_exporter": "python",
   "pygments_lexer": "ipython3",
   "version": "3.12.1"
  }
 },
 "nbformat": 4,
 "nbformat_minor": 2
}
