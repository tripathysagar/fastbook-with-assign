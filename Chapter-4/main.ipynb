{
 "cells": [
  {
   "cell_type": "markdown",
   "id": "0a759d3f-b91f-4dc4-9615-1f08bbb6fc6a",
   "metadata": {},
   "source": [
    "#  Create your own implementation of `Learner` from scratch, based on the training loop shown in this chapter."
   ]
  },
  {
   "cell_type": "code",
   "execution_count": 1,
   "id": "c7cbdd08-7012-41aa-97b2-e54a1fb58abc",
   "metadata": {},
   "outputs": [],
   "source": [
    "from fastai.vision.all import *"
   ]
  },
  {
   "cell_type": "code",
   "execution_count": 2,
   "id": "49a7cce1-57d5-46e6-8ec8-d724a6f45df5",
   "metadata": {},
   "outputs": [],
   "source": [
    "device = torch.device(\"mps\" if torch.backends.mps.is_available() else \"cpu\")"
   ]
  },
  {
   "cell_type": "code",
   "execution_count": 3,
   "id": "d004c19e-2d63-43ff-9435-da768e4498aa",
   "metadata": {},
   "outputs": [
    {
     "data": {
      "text/plain": [
       "(#3) [Path('/Users/sagartr/.fastai/data/mnist_sample/valid'),Path('/Users/sagartr/.fastai/data/mnist_sample/labels.csv'),Path('/Users/sagartr/.fastai/data/mnist_sample/train')]"
      ]
     },
     "execution_count": 3,
     "metadata": {},
     "output_type": "execute_result"
    }
   ],
   "source": [
    "path = untar_data(URLs.MNIST_SAMPLE)\n",
    "path.ls()"
   ]
  },
  {
   "cell_type": "code",
   "execution_count": 4,
   "id": "f46505b8-9de2-4942-ba27-22cb930f8bee",
   "metadata": {},
   "outputs": [],
   "source": [
    "Path.BASE_PATH = path"
   ]
  },
  {
   "cell_type": "code",
   "execution_count": 5,
   "id": "9c139760-8257-4e0f-bee8-6666e43b6c34",
   "metadata": {},
   "outputs": [],
   "source": [
    "blocks = DataBlock(\n",
    "    blocks = (ImageBlock(cls=PILImageBW),CategoryBlock),\n",
    "    get_items=get_image_files,\n",
    "    splitter=GrandparentSplitter(),\n",
    "    get_y = parent_label,\n",
    ")\n",
    "dls = blocks.dataloaders(path)"
   ]
  },
  {
   "cell_type": "code",
   "execution_count": 6,
   "id": "209db2cc-375a-49ef-95cf-046c0a4d04c2",
   "metadata": {},
   "outputs": [
    {
     "data": {
      "image/png": "[encoded data removed]",
      "text/plain": [
       "<Figure size 900x900 with 9 Axes>"
      ]
     },
     "metadata": {},
     "output_type": "display_data"
    }
   ],
   "source": [
    "dls.show_batch()"
   ]
  },
  {
   "cell_type": "code",
   "execution_count": 7,
   "id": "6a28daa2-963b-4e27-9f2b-e430eadcc9ce",
   "metadata": {},
   "outputs": [
    {
     "data": {
      "text/plain": [
       "(torch.Size([64, 1, 28, 28]), torch.Size([64]))"
      ]
     },
     "execution_count": 7,
     "metadata": {},
     "output_type": "execute_result"
    }
   ],
   "source": [
    "x,y = dls.train.one_batch()\n",
    "x.shape,y.shape"
   ]
  },
  {
   "cell_type": "code",
   "execution_count": 8,
   "id": "8ebee0a7-464e-479f-b89f-5108b9a313c0",
   "metadata": {},
   "outputs": [
    {
     "name": "stdout",
     "output_type": "stream",
     "text": [
      "33\n"
     ]
    }
   ],
   "source": [
    "i=  0 \n",
    "for  _,_ in enumerate(dls.valid):\n",
    "    i=i+1\n",
    "\n",
    "print(i+1)"
   ]
  },
  {
   "cell_type": "code",
   "execution_count": 9,
   "id": "2a7fdb14-561f-42cf-99a4-4635bd94225e",
   "metadata": {},
   "outputs": [
    {
     "name": "stdout",
     "output_type": "stream",
     "text": [
      "2\n"
     ]
    }
   ],
   "source": [
    "i=  0 \n",
    "for  k,z in dls.train:\n",
    "    i=i+1\n",
    "    #print(k)\n",
    "    break\n",
    "print(i+1)"
   ]
  },
  {
   "cell_type": "code",
   "execution_count": 10,
   "id": "15d9a6d0-95fd-4269-be5f-b073a2330fd3",
   "metadata": {},
   "outputs": [
    {
     "data": {
      "text/plain": [
       "True"
      ]
     },
     "execution_count": 10,
     "metadata": {},
     "output_type": "execute_result"
    }
   ],
   "source": [
    "type(k.as_subclass(Tensor))==type( Tensor(k))"
   ]
  },
  {
   "cell_type": "code",
   "execution_count": 11,
   "id": "f3d325d9-61f6-4917-9bad-70a97a968728",
   "metadata": {},
   "outputs": [
    {
     "data": {
      "text/plain": [
       "Linear(in_features=784, out_features=1, bias=True)"
      ]
     },
     "execution_count": 11,
     "metadata": {},
     "output_type": "execute_result"
    }
   ],
   "source": [
    "linear_model = nn.Linear(28*28,1)\n",
    "linear_model"
   ]
  },
  {
   "cell_type": "code",
   "execution_count": 30,
   "id": "76ff52b4-53c8-4ee0-b304-bcb2cb7d1b1b",
   "metadata": {},
   "outputs": [
    {
     "data": {
      "text/plain": [
       "Sequential(\n",
       "  (0): Linear(in_features=784, out_features=30, bias=True)\n",
       "  (1): ReLU()\n",
       "  (2): Linear(in_features=30, out_features=1, bias=True)\n",
       ")"
      ]
     },
     "execution_count": 30,
     "metadata": {},
     "output_type": "execute_result"
    }
   ],
   "source": [
    "simple_net = nn.Sequential(\n",
    "    nn.Linear(28*28,30),\n",
    "    nn.ReLU(),\n",
    "    nn.Linear(30,1)\n",
    ")\n",
    "simple_net"
   ]
  },
  {
   "cell_type": "code",
   "execution_count": 23,
   "id": "53dbdc14-d109-4bd5-9cd5-d3ba70535359",
   "metadata": {},
   "outputs": [],
   "source": [
    "def mnint_loss(target, pred):\n",
    "    predictions = F.sigmoid(pred)\n",
    "    return torch.where(target==1, 1-pred, pred).mean()\n",
    "\n",
    "def acuracy(xb, yb):\n",
    "    pred = xb.sigmoid()\n",
    "    correct = (pred>0.5) == yb\n",
    "    return correct.float().mean().item()\n",
    "    "
   ]
  },
  {
   "cell_type": "code",
   "execution_count": 38,
   "id": "d5bc8a35-a653-4612-baea-49b9639fefb4",
   "metadata": {},
   "outputs": [],
   "source": [
    "class learner():\n",
    "    def __init__(self, dls=None, model, loss_func, metrics=None):\n",
    "        self.dls = dls.to(device)\n",
    "        self.model = model.to(device)\n",
    "        self.loss_func = loss_func\n",
    "        self.metrics = metrics\n",
    "        \n",
    "        self.params = [param for param in model.parameters()]\n",
    "        self.lr  = 0.1\n",
    "        \n",
    "    def _calc_loss(self, target, pred):\n",
    "        return self.loss_func(target, pred)\n",
    "\n",
    "    \n",
    "    def predict(self, x, infer=False):\n",
    "        #if infer:\n",
    "        #    with torch.no_grad():\n",
    "        #        return self.model(x)\n",
    "        return self.model(x)\n",
    "\n",
    "    def train_loop(self, x, y):\n",
    "        pred = self.predict(x)\n",
    "        \n",
    "        loss = self._calc_loss(y, pred)\n",
    "        \n",
    "        loss.backward()\n",
    "        \n",
    "        self.step()\n",
    "        self.zero_grad()\n",
    "        \n",
    "        return loss.item()\n",
    "        \n",
    "    def step(self):\n",
    "        for p in self.params: \n",
    "            p.data -= p.grad.data * self.lr\n",
    "            \n",
    "    def zero_grad(self):\n",
    "        for p in self.params: \n",
    "            p.grad = None\n",
    "\n",
    "    def calc_metrics(self, x, y):\n",
    "        p =  self.metrics(self.predict(x, True), y)\n",
    "        return p\n",
    "        \n",
    "    def fit(self, epoch, lr):\n",
    "        self.lr =lr\n",
    "        train_sz, valid_sz = len(dls.train), len(dls.valid)\n",
    "        \n",
    "        for i in range(epoch):\n",
    "            epoch_loss, acc  = 0, 0\n",
    "            valid_acc = 0\n",
    "            for x, y in self.dls.train:\n",
    "                x = Tensor(x).view(x.size(0),  -1)\n",
    "                loss = self._train_loop(x, y)\n",
    "                epoch_loss += loss\n",
    "                acc += self.calc_metrics(x,y)\n",
    "                \n",
    "            for x, y in self.dls.valid:\n",
    "                x = Tensor(x).view(x.size(0),  -1)\n",
    "                valid_acc += self.calc_metrics(x,y)\n",
    "                print(valid_acc)\n",
    "                break\n",
    "            print(f\"{i} -->{epoch_loss/train_sz:.2f} ->> {acc/train_sz:.2f} -->> {valid_acc/valid_sz} \")\n",
    "            "
   ]
  },
  {
   "cell_type": "code",
   "execution_count": 40,
   "id": "471a448c-17f0-435d-bc8f-b767498a46d9",
   "metadata": {},
   "outputs": [
    {
     "data": {
      "text/plain": [
       "torch.Size([64, 784])"
      ]
     },
     "execution_count": 40,
     "metadata": {},
     "output_type": "execute_result"
    }
   ],
   "source": [
    "x, y  = dls.train.one_batch()\n",
    "x = Tensor(x).view(x.size(0),  -1)\n",
    "x.shape"
   ]
  },
  {
   "cell_type": "code",
   "execution_count": 46,
   "id": "458eb8f4-2c2c-489f-9f0c-abae0a63c061",
   "metadata": {},
   "outputs": [
    {
     "data": {
      "text/plain": [
       "0.578125"
      ]
     },
     "execution_count": 46,
     "metadata": {},
     "output_type": "execute_result"
    }
   ],
   "source": [
    "l.calc_metrics(x,y) "
   ]
  },
  {
   "cell_type": "code",
   "execution_count": 45,
   "id": "7ca9a0f3-6fa7-433d-9b13-25207dbcaf93",
   "metadata": {},
   "outputs": [
    {
     "data": {
      "text/plain": [
       "[0.15549799799919128,\n",
       " 0.07309812307357788,\n",
       " -0.025625646114349365,\n",
       " -0.14398333430290222,\n",
       " -0.2861146330833435,\n",
       " -0.45701199769973755,\n",
       " -0.6625698804855347,\n",
       " -0.9099818468093872,\n",
       " -1.2079850435256958,\n",
       " -1.5670920610427856]"
      ]
     },
     "execution_count": 45,
     "metadata": {},
     "output_type": "execute_result"
    }
   ],
   "source": [
    "[l.train_loop(x,y) for i  in range(10)]"
   ]
  },
  {
   "cell_type": "code",
   "execution_count": 39,
   "id": "7a5e3768-a1f4-48d2-a4ad-f8f3f2c6e2e5",
   "metadata": {},
   "outputs": [],
   "source": [
    "l  = learner(dls, simple_net, mnint_loss, acuracy)"
   ]
  },
  {
   "cell_type": "code",
   "execution_count": 26,
   "id": "54ca059d-cc9e-43e5-a728-e0031e9fbab0",
   "metadata": {
    "scrolled": true
   },
   "outputs": [
    {
     "name": "stdout",
     "output_type": "stream",
     "text": [
      "1.0\n",
      "0 -->0.51 ->> 0.51 -->> 0.03125 \n",
      "1.0\n",
      "1 -->0.48 ->> 0.51 -->> 0.03125 \n",
      "1.0\n",
      "2 -->0.40 ->> 0.51 -->> 0.03125 \n",
      "1.0\n",
      "3 -->-0.98 ->> 0.51 -->> 0.03125 \n",
      "1.0\n",
      "4 -->-4.90 ->> 0.51 -->> 0.03125 \n",
      "CPU times: user 1min 59s, sys: 19.8 s, total: 2min 19s\n",
      "Wall time: 3min 33s\n"
     ]
    }
   ],
   "source": [
    "%%time\n",
    "l.fit(5, 0.1)"
   ]
  },
  {
   "cell_type": "code",
   "execution_count": 26,
   "id": "0fff0a6b-e464-4bd3-b7f5-9bbccca0f917",
   "metadata": {},
   "outputs": [],
   "source": [
    "import psutil"
   ]
  },
  {
   "cell_type": "code",
   "execution_count": 27,
   "id": "a2cefbaa-8530-42f7-88c2-2e7785358716",
   "metadata": {},
   "outputs": [
    {
     "name": "stdout",
     "output_type": "stream",
     "text": [
      "GPU Memory Used: 8.62 GB, Free: 6.37 GB\n"
     ]
    }
   ],
   "source": [
    "def display_gpu_memory_usage(used_memory, free_memory):\n",
    "    \"\"\"\n",
    "    Display GPU memory usage in GB or MB format.\n",
    "\n",
    "    Parameters:\n",
    "    - used_memory (int): Used GPU memory in bytes.\n",
    "    - free_memory (int): Free GPU memory in bytes.\n",
    "    \"\"\"\n",
    "    # Convert bytes to gigabytes (GB) and megabytes (MB) for used and free memory\n",
    "    used_gb = used_memory / (1024 ** 3)\n",
    "    used_mb = used_memory / (1024 ** 2)\n",
    "    free_gb = free_memory / (1024 ** 3)\n",
    "    free_mb = free_memory / (1024 ** 2)\n",
    "\n",
    "    # Determine the appropriate unit (GB or MB) based on the memory size\n",
    "    if used_gb >= 1:\n",
    "        used_str = f\"{used_gb:.2f} GB\"\n",
    "    else:\n",
    "        used_str = f\"{used_mb:.2f} MB\"\n",
    "\n",
    "    if free_gb >= 1:\n",
    "        free_str = f\"{free_gb:.2f} GB\"\n",
    "    else:\n",
    "        free_str = f\"{free_mb:.2f} MB\"\n",
    "\n",
    "    print(f\"GPU Memory Used: {used_str}, Free: {free_str}\")\n",
    "\n",
    "# Example usage:\n",
    "# Get GPU memory usage using psutil\n",
    "gpu_memory_stats = psutil.virtual_memory()\n",
    "used_memory = gpu_memory_stats.used\n",
    "free_memory = gpu_memory_stats.available\n",
    "# Display GPU memory usage\n",
    "display_gpu_memory_usage(used_memory, free_memory)\n"
   ]
  },
  {
   "cell_type": "code",
   "execution_count": null,
   "id": "f13a1755-9864-4ba0-a33c-cfd2043b7e3f",
   "metadata": {},
   "outputs": [],
   "source": [
    "URLs"
   ]
  }
 ],
 "metadata": {
  "kernelspec": {
   "display_name": "Python 3 (ipykernel)",
   "language": "python",
   "name": "python3"
  },
  "language_info": {
   "codemirror_mode": {
    "name": "ipython",
    "version": 3
   },
   "file_extension": ".py",
   "mimetype": "text/x-python",
   "name": "python",
   "nbconvert_exporter": "python",
   "pygments_lexer": "ipython3",
   "version": "3.10.13"
  }
 },
 "nbformat": 4,
 "nbformat_minor": 5
}
